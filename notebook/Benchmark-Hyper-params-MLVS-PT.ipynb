{
 "cells": [
  {
   "cell_type": "code",
   "execution_count": null,
   "id": "e66623bf",
   "metadata": {
    "ExecuteTime": {
     "end_time": "2023-05-03T16:47:06.966227Z",
     "start_time": "2023-05-03T16:47:02.809878Z"
    },
    "code_folding": [
     0
    ]
   },
   "outputs": [],
   "source": [
    "#\n",
    "%matplotlib inline\n",
    "import matplotlib\n",
    "import matplotlib_inline.backend_inline\n",
    "import arviz as az\n",
    "import numpy as np\n",
    "import pandas as pd\n",
    "import torch\n",
    "import matplotlib.pyplot as plt\n",
    "import warnings\n",
    "warnings.filterwarnings(\"ignore\")\n",
    "matplotlib_inline.backend_inline.set_matplotlib_formats(\"svg\", \"pdf\", \"retina\")  # For export\n",
    "import sys \n",
    "sys.path.append(\"../src/\")\n",
    "import seaborn as sns \n",
    "import warnings\n",
    "warnings.filterwarnings(\"ignore\")\n",
    "from cycler import cycler\n",
    "az.style.use([\"science\"])\n",
    "nice_fonts = {\n",
    "        # Use LaTeX to write all text\n",
    "        \"font.family\": \"serif\",\n",
    "        # Always save as 'tight'\n",
    "        \"savefig.bbox\" : \"tight\",\n",
    "        \"savefig.pad_inches\" : 0.05,\n",
    "        \"ytick.right\" : True,\n",
    "        \"font.serif\" : \"Times New Roman\",\n",
    "        \"mathtext.fontset\" : \"dejavuserif\",\n",
    "        \"axes.labelsize\": 15,\n",
    "        \"font.size\": 15,\n",
    "        # Make the legend/label fonts a little smaller\n",
    "        \"legend.fontsize\": 12,\n",
    "        \"xtick.labelsize\": 12,\n",
    "        \"ytick.labelsize\": 12,\n",
    "        # Set line widths\n",
    "        \"axes.linewidth\" : 0.5,\n",
    "        \"grid.linewidth\" : 0.5,\n",
    "        \"lines.linewidth\" : 1.,\n",
    "        # Remove legend frame\n",
    "        \"legend.frameon\" :False,\n",
    "        # color-blind friendly cycle designed using https://colorcyclepicker.mpetroff.net/\n",
    "        # see preview and check for colorblindness here https://coolors.co/107591-00c0bf-f69a48-fdcd49-8da798-a19368-525252-a6761d-7035b7-cf166e\n",
    "        'axes.prop_cycle': cycler(color=['#107591','#00c0bf','#f69a48','#fdcd49','#8da798','#a19368','#525252','#a6761d','#7035b7','#cf166e'])\n",
    "         \n",
    "}\n",
    "matplotlib.rcParams.update(nice_fonts)\n",
    "az.style.use([\"science\",  \"arviz-doc\", 'tableau-colorblind10'])"
   ]
  },
  {
   "cell_type": "code",
   "execution_count": null,
   "id": "e40d2378",
   "metadata": {
    "ExecuteTime": {
     "end_time": "2023-05-03T16:47:10.905405Z",
     "start_time": "2023-05-03T16:47:06.968229Z"
    }
   },
   "outputs": [],
   "source": [
    "from utils.data import DatasetObjective\n",
    "from darts import TimeSeries\n",
    "from baselines.backtesting import BacktestingForecast"
   ]
  },
  {
   "cell_type": "code",
   "execution_count": null,
   "id": "dc4b7cef",
   "metadata": {
    "ExecuteTime": {
     "end_time": "2023-05-03T16:49:38.613064Z",
     "start_time": "2023-05-03T16:47:10.907407Z"
    }
   },
   "outputs": [],
   "source": [
    "from utils.hparams import  hparams\n",
    "from utils.load_data import load_uk_data, load_substation_data\n",
    "from utils.hparams import hparams\n",
    "data_PT = load_substation_data(add_ghi=True).select_dtypes(exclude='object')\n",
    "hparams.update({'window_size':96})\n",
    "hparams.update({'horizon':48})\n",
    "hparams.update({'encoder_type':'SeasonalNaive'})\n",
    "hparams.update({'time_varying_known_categorical_feature': ['DAYOFWEEK', 'DAY', 'HOUR', 'Session']}),\n",
    "hparams.update({'time_varying_known_feature': ['Ghi']})\n",
    "hparams.update({'time_varying_unknown_feature': ['NetLoad-Ghi']})\n",
    "hparams.update({'targets':['NetLoad']}) #'Load',\n",
    "hparams.update({'latent_size': 256, 'depth': 2, 'batch_size': 64, 'num_head': 4, 'dropout': 0.1786342451901633,\n",
    "                'alpha': 0.1786342451901633, 'emb_size': 32, 'embed_type': 'RotaryEmb', 'comb_type':'weighted-comb',\n",
    "                })"
   ]
  },
  {
   "cell_type": "code",
   "execution_count": null,
   "id": "8f1ea45d",
   "metadata": {
    "ExecuteTime": {
     "end_time": "2023-05-03T16:49:44.899892Z",
     "start_time": "2023-05-03T16:49:38.615066Z"
    }
   },
   "outputs": [],
   "source": [
    "import scipy.signal as signal\n",
    "import plotly.graph_objects as go\n",
    "import plotly.express as px\n",
    "data=data_PT['2018-8':'2022'].copy()\n",
    "data=data.reset_index().drop_duplicates(subset='timestamp')\n",
    "data=data.drop(columns=[ 'index'])\n",
    "\n",
    "columns = list(data.columns)[1:]\n",
    "data['timestamp'] = pd.to_datetime(data['timestamp'], utc=True).dt.tz_localize(None)\n",
    "data=TimeSeries.from_dataframe(data, 'timestamp', columns, fill_missing_dates=True).pd_dataframe()"
   ]
  },
  {
   "cell_type": "code",
   "execution_count": null,
   "id": "3c236eb1",
   "metadata": {
    "ExecuteTime": {
     "end_time": "2023-05-03T16:49:46.890751Z",
     "start_time": "2023-05-03T16:49:44.902895Z"
    }
   },
   "outputs": [],
   "source": [
    "n_rows=1\n",
    "fig = px.scatter(data.reset_index(), x='timestamp', y='NetLoad')\n",
    "fig.update_xaxes(matches=None, showticklabels=True, visible=True)\n",
    "fig.update_layout(margin=dict(l=60, r=10, t=20, b=50))\n",
    "fig.update_layout(template=\"plotly_white\", font=dict(size=10))\n",
    "fig.update_annotations(font_size=10)\n",
    "fig.update_layout(autosize=True, height=150 * n_rows)\n",
    "fig.show()                     "
   ]
  },
  {
   "cell_type": "markdown",
   "id": "d62b6f10",
   "metadata": {},
   "source": [
    "## Experiments one compare different metrics"
   ]
  },
  {
   "cell_type": "code",
   "execution_count": null,
   "id": "fb33b0d5",
   "metadata": {
    "ExecuteTime": {
     "end_time": "2023-05-03T16:49:46.922286Z",
     "start_time": "2023-05-03T16:49:46.892753Z"
    }
   },
   "outputs": [],
   "source": [
    "forecast_len=6 \n",
    "incremental_len = 2\n",
    "min_train_len=12\n",
    "seed=777\n",
    "max_epochs=50    \n",
    "n_splits=10                 \n",
    "window_type='expanding'        \n",
    "dataset=\"PT\",\n",
    "exp_name=\"PT-Benchmark\"\n",
    "hparams.update({'max_epochs':max_epochs})\n",
    "hparams.update({'max_epochs':max_epochs})\n",
    "hparams.update({'num_trials':50}) \n",
    "file_name=f'{exp_name}_{window_type}' \n",
    "bactesting= BacktestingForecast(hparams,  data,  file_name,\n",
    "                                    n_splits=n_splits, forecast_len = forecast_len, \n",
    "                                    incremental_len = incremental_len, min_train_len=min_train_len,\n",
    "                                    window_type=window_type, \n",
    "                                    max_epochs=max_epochs)"
   ]
  },
  {
   "cell_type": "code",
   "execution_count": null,
   "id": "8f56b744",
   "metadata": {},
   "outputs": [],
   "source": [
    "list_models=[ 'LSTM', 'MSTL' ,'CATBOOST', 'MSTL', 'SeasonalNaive', 'RF', 'LREGRESS', 'PatchTST','TimesNet', 'FEDformer']\n",
    "for encoder_type in list_models: \n",
    "    hparams.update({'encoder_type':encoder_type})\n",
    "    bactesting.fit(hparams, autotune=True)"
   ]
  }
 ],
 "metadata": {
  "kernelspec": {
   "display_name": "Python 3 (ipykernel)",
   "language": "python",
   "name": "python3"
  },
  "language_info": {
   "codemirror_mode": {
    "name": "ipython",
    "version": 3
   },
   "file_extension": ".py",
   "mimetype": "text/x-python",
   "name": "python",
   "nbconvert_exporter": "python",
   "pygments_lexer": "ipython3",
   "version": "3.9.18"
  },
  "varInspector": {
   "cols": {
    "lenName": 16,
    "lenType": 16,
    "lenVar": 40
   },
   "kernels_config": {
    "python": {
     "delete_cmd_postfix": "",
     "delete_cmd_prefix": "del ",
     "library": "var_list.py",
     "varRefreshCmd": "print(var_dic_list())"
    },
    "r": {
     "delete_cmd_postfix": ") ",
     "delete_cmd_prefix": "rm(",
     "library": "var_list.r",
     "varRefreshCmd": "cat(var_dic_list()) "
    }
   },
   "types_to_exclude": [
    "module",
    "function",
    "builtin_function_or_method",
    "instance",
    "_Feature"
   ],
   "window_display": false
  }
 },
 "nbformat": 4,
 "nbformat_minor": 5
}
