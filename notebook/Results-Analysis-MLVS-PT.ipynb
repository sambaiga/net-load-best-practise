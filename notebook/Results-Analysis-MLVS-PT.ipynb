{
 "cells": [
  {
   "cell_type": "code",
   "execution_count": null,
   "id": "189d928d",
   "metadata": {
    "ExecuteTime": {
     "end_time": "2023-05-14T15:22:14.334775Z",
     "start_time": "2023-05-14T15:22:12.073797Z"
    },
    "code_folding": []
   },
   "outputs": [],
   "source": [
    "#\n",
    "%matplotlib inline\n",
    "import matplotlib\n",
    "import matplotlib_inline.backend_inline\n",
    "import arviz as az\n",
    "import numpy as np\n",
    "import pandas as pd\n",
    "import matplotlib.pyplot as plt\n",
    "import warnings\n",
    "warnings.filterwarnings(\"ignore\")\n",
    "matplotlib_inline.backend_inline.set_matplotlib_formats(\"svg\", \"pdf\", \"retina\")  # For export\n",
    "import sys \n",
    "sys.path.append(\"../src/\")\n",
    "import seaborn as sns \n",
    "import altair as alt\n",
    "from tqdm import tqdm\n",
    "import warnings\n",
    "warnings.filterwarnings(\"ignore\")\n",
    "from cycler import cycler\n",
    "az.style.use([\"science\", 'arviz-doc'])\n",
    "nice_fonts = {\n",
    "        # Use LaTeX to write all text\n",
    "        \"font.family\": \"serif\",\n",
    "        # Always save as 'tight'\n",
    "        \"savefig.bbox\" : \"tight\",\n",
    "        \"savefig.pad_inches\" : 0.05,\n",
    "        \"ytick.right\" : True,\n",
    "        \"font.serif\" : \"Times New Roman\",\n",
    "        \"mathtext.fontset\" : \"dejavuserif\",\n",
    "        \"axes.labelsize\": 15,\n",
    "        \"font.size\": 15,\n",
    "        # Make the legend/label fonts a little smaller\n",
    "        \"legend.fontsize\": 10,\n",
    "        'legend.facecolor':'white',\n",
    "        'legend.edgecolor': 'gray',\n",
    "        \"xtick.labelsize\": 12,\n",
    "        \"ytick.labelsize\": 12,\n",
    "        # Set line widths\n",
    "        \"axes.linewidth\" : 0.5,\n",
    "        \"grid.linewidth\" : 0.5,\n",
    "        \"lines.linewidth\" : 1.,\n",
    "        # Remove legend frame\n",
    "        \"legend.frameon\" :False,\n",
    "        # color-blind friendly cycle designed using https://colorcyclepicker.mpetroff.net/\n",
    "        # see preview and check for colorblindness here https://coolors.co/107591-00c0bf-f69a48-fdcd49-8da798-a19368-525252-a6761d-7035b7-cf166e\n",
    "        'axes.prop_cycle': cycler(color=['#107591','#00c0bf','#f69a48','#fdcd49','#8da798','#a19368','#525252','#a6761d','#7035b7','#cf166e'])      \n",
    "}\n",
    "matplotlib.rcParams.update(nice_fonts)\n",
    "from utils.data_processing import add_time_features\n",
    "import altair as alt\n",
    "alt.themes.enable(\"opaque\")\n",
    "alt.data_transformers.disable_max_rows()\n"
   ]
  },
  {
   "cell_type": "markdown",
   "id": "4bb71c45",
   "metadata": {},
   "source": [
    "## Define metrics functions"
   ]
  },
  {
   "cell_type": "code",
   "execution_count": null,
   "id": "1ac85b3f",
   "metadata": {
    "ExecuteTime": {
     "end_time": "2023-05-14T15:22:14.430994Z",
     "start_time": "2023-05-14T15:22:14.367918Z"
    },
    "code_folding": []
   },
   "outputs": [],
   "source": [
    "## Metrics functions\n",
    "from sklearn.metrics import r2_score\n",
    "from utils.significant_test import run_statistical_test\n",
    "from scipy.stats import norm, probplot,  anderson, shapiro\n",
    "def _divide_no_nan(a: float, b: float) -> float:\n",
    "    div = a / b\n",
    "    div[div != div] = 0.0\n",
    "    div[div == float('inf')] = 0.0\n",
    "    return div\n",
    "\n",
    "def get_mae(y, y_hat):\n",
    "    return np.abs(y - y_hat)\n",
    "\n",
    "def get_mse(y, y_hat):\n",
    "    return np.square(y - y_hat)\n",
    "\n",
    "def get_mse(y, y_hat):\n",
    "    return np.square(y - y_hat)\n",
    "\n",
    "def get_rmse(y, y_hat):\n",
    "    return np.sqrt(get_mse(y, y_hat))\n",
    "\n",
    "\n",
    "def get_mape(y, y_hat):\n",
    "    delta_y = get_mae(y, y_hat)\n",
    "    scale = np.abs(y)\n",
    "    mape=_divide_no_nan(delta_y, scale)\n",
    "    return mape\n",
    "\n",
    "def get_smape(y, y_hat):\n",
    "    delta_y = get_mae(y, y_hat)\n",
    "    scale = np.abs(y) + np.abs(y_hat)\n",
    "    smape = 2 *_divide_no_nan(delta_y, scale)\n",
    "    return smape\n",
    "\n",
    "def get_bias(y, y_hat):\n",
    "    bias=(y - y_hat)/get_mae(y, y_hat)\n",
    "    return bias\n",
    "\n",
    "def get_residual(y, y_hat):\n",
    "    res=(y - y_hat)\n",
    "    return res\n",
    "\n",
    "def get_nbias(y, y_hat):\n",
    "    nbias=(y-y_hat)/(y + y_hat)\n",
    "    return nbias\n",
    "\n",
    "def get_pointwise_metrics(pred:np.array, true:np.array, pred_naive:np.array, true_naive):\n",
    "    \"\"\"calculate pointwise metrics\n",
    "    Args:   pred: predicted values\n",
    "            true: true values\n",
    "            target_range: target range          \n",
    "    Returns:    rmse: root mean square error                \n",
    "\n",
    "\n",
    "    \"\"\"\n",
    "    true, pred = true.flatten(), pred.flatten()\n",
    "    pred_naive, true_naive = pred_naive.flatten(), true_naive.flatten()\n",
    "    bias=get_bias(true, pred).sum()\n",
    "    nbias=get_nbias(true, pred).sum()\n",
    "    mae=get_mae(true, pred).mean()\n",
    "    mape=get_mape(true, pred).mean()\n",
    "    smape=get_smape(true, pred).mean()\n",
    "    rmse=np.sqrt(get_mse(true, pred).mean())\n",
    "    rmae=get_mae(true, pred).mean()/get_mae(true_naive, pred_naive).mean()\n",
    "    r2=r2_score(pred, true)\n",
    "    res=get_residual(true, pred).mean()\n",
    "    return dict(rmse=rmse, mae=mae, r2=r2, mape=mape, smape=smape,\n",
    "                   bias=bias, nbias=nbias, rmae=rmae, res=res)\n",
    "\n",
    "def get_daily_metrics(pred:np.array, true:np.array, pred_naive:np.array, true_naive):\n",
    "    metrics=[]\n",
    "    for i in range(len(true)):\n",
    "        metric = get_pointwise_metrics(pred[i], true[i], pred_naive[i], true_naive[i])\n",
    "        metrics.append(pd.DataFrame.from_dict(metric, orient='index').T)\n",
    "    return pd.concat(metrics)\n",
    "\n",
    "\n",
    "# functions to get all metrics\n",
    "def get_results_per_experiment(models, dataset, experiment_name, window_type, cross_valid=list(range(1,11))):\n",
    "    file_name=f'{experiment_name}_{window_type}'\n",
    "    all_metrics=[]\n",
    "    all_residual={}\n",
    "    all_data=[]\n",
    "    # [ 'TFT', 'NBEATS',  'NHiTS', 'RNN', 'MSTL', 'SeasonalNaive', 'AutoARIMA',   \"RF\", 'CATBOOST', 'LREGRESS']\n",
    "    for encoder_type in models:\n",
    "        metrics_per_model=[]\n",
    "        residual_per_model=[]\n",
    "        data_per_model=[]\n",
    "        print(encoder_type)\n",
    "        print()\n",
    "        for cross in tqdm(cross_valid):\n",
    "            if window_type=='train_test':\n",
    "                result_path=f'../results/{file_name}/{encoder_type}/{cross}_processed_results.npy'\n",
    "                result_path_naive=f'../results/{file_name}/SeasonalNaive/{cross}_processed_results.npy'\n",
    "            else:\n",
    "                result_path=f'../results/{file_name}/{encoder_type}/{cross}_cross_validation_processed_results.npy'\n",
    "                result_path_naive=f'../results/{file_name}/SeasonalNaive/{cross}_cross_validation_processed_results.npy'\n",
    "            results=np.load(result_path, allow_pickle=True).item()\n",
    "            results_naive=np.load(result_path_naive, allow_pickle=True).item()\n",
    "            time_stamp=results['index']\n",
    "            df = pd.DataFrame(time_stamp.flatten())\n",
    "            df.columns=['Date']\n",
    "            index=df.Date.dt.round(\"D\").unique()\n",
    "            metrics=results['NetLoad_metrics']\n",
    "            true=results['true']\n",
    "            pred=results['pred']\n",
    "            \n",
    "            \n",
    "            df=pd.DataFrame(index=results['index'].flatten())\n",
    "            df[f'{encoder_type}']=pred.flatten()\n",
    "            df['true']=true.flatten()\n",
    "            data_per_model.append(df)\n",
    "            \n",
    "\n",
    "    \n",
    "\n",
    "            residual=true-pred\n",
    "            residual_per_model.append(residual.flatten())\n",
    "            pred_naive=results_naive['pred']\n",
    "            true_naive=results_naive['true']\n",
    "            metrics=get_daily_metrics(pred, true, pred_naive, true_naive)\n",
    "            metrics['timestamp']=index[:len(metrics)]\n",
    "            metrics['Fold']=cross\n",
    "            metrics['Model']=encoder_type\n",
    "            metrics['Train-time']=results['train-time'] if 'train-time' in results.keys() else results['train_time']\n",
    "            metrics['Test-time']=results['test-time'] if 'test-time' in results.keys() else results['test_time']\n",
    "            metrics=metrics.set_index('timestamp')\n",
    "            metrics=add_time_features(metrics, hemisphere = 'Northern')\n",
    "            metrics=metrics.replace('CATBOOST', 'CAT').replace('AutoARIMA', 'ARIMA').replace('LREGRESS', 'L-REG').replace('SeasonalNaive', 'S-Naive').replace('D-LINEAR', 'D-LIN')\n",
    "            metrics_per_model.append(metrics)\n",
    "        all_residual[encoder_type]=residual_per_model\n",
    "        metrics_per_model=pd.concat(metrics_per_model)\n",
    "        all_metrics.append(metrics_per_model)\n",
    "        all_data.append(pd.concat(data_per_model))\n",
    "\n",
    "    metrics=pd.concat(all_metrics)\n",
    "    if dataset==\"UK\":\n",
    "        metrics['Dataset']='SPS-UK}T'\n",
    "    else:\n",
    "        metrics['Dataset']='MLVS-PT'\n",
    "    all_data=pd.concat(all_data, axis=1)\n",
    "    del all_metrics\n",
    "    del df \n",
    "    del results\n",
    "    del results_naive\n",
    "    del pred\n",
    "    del true\n",
    "    \n",
    "    return metrics, all_residual, all_data"
   ]
  },
  {
   "cell_type": "code",
   "execution_count": null,
   "id": "42104131",
   "metadata": {
    "ExecuteTime": {
     "end_time": "2023-05-14T15:22:14.479170Z",
     "start_time": "2023-05-14T15:22:14.464120Z"
    }
   },
   "outputs": [],
   "source": [
    "forecast_len=6 \n",
    "incremental_len = 2\n",
    "min_train_len=12\n",
    "seed=777\n",
    "max_epochs=50                   \n",
    "window_type='expanding'          \n",
    "dataset=\"PT\",\n",
    "experiment_name=\"PT-BestPractises\""
   ]
  },
  {
   "cell_type": "markdown",
   "id": "d45ee6cf",
   "metadata": {},
   "source": [
    "## Experiment 1: Metrics\n",
    "\n",
    "#### Objectives: \n",
    "\n",
    "- To un-\n",
    "derstand their suitability in accurately assessing net\n",
    "load forecasting, emphasizing critical aspects such  s\n",
    "peak values and negative net-l and how each metric rank the baselines models\n",
    "- Metrics considered: NRMSE, MAE, SMAPE, MAPE, NBIAS\n",
    "\n",
    "ad."
   ]
  },
  {
   "cell_type": "code",
   "execution_count": null,
   "id": "a9c6c267",
   "metadata": {
    "ExecuteTime": {
     "end_time": "2023-05-14T15:22:16.324768Z",
     "start_time": "2023-05-14T15:22:16.107989Z"
    }
   },
   "outputs": [],
   "source": [
    "models=['MSTL', 'SeasonalNaive',   \"RF\",  'LREGRESS', 'CATBOOST'] #,\n",
    "\n",
    "def get_results_per_dataset(models, dataset, experiment_name, window_type):\n",
    "    \n",
    "    file_name=f'{experiment_name}_{window_type}'\n",
    "    all_metrics=[]\n",
    "    all_residual={}\n",
    "    for encoder_type in models:\n",
    "        print(encoder_type)\n",
    "        print()\n",
    "        for cross in tqdm(range(1, 11)):\n",
    "            result_path=f'../results/{file_name}/{encoder_type}/{cross}_cross_validation_processed_results.npy'\n",
    "            results=np.load(result_path, allow_pickle=True).item()\n",
    "            time_stamp=results['index'].flatten()\n",
    "    \n",
    "            metrics=results['NetLoad_metrics']\n",
    "            df=pd.DataFrame(index=time_stamp)\n",
    "            df['pred']=results['pred'].flatten()\n",
    "            df['true']=results['true'].flatten()\n",
    "            all_metrics.append(df)\n",
    "            \n",
    "    results = pd.concat(all_metrics)\n",
    "    if dataset==\"UK\":\n",
    "        results['Dataset']='SPS-UK}T'\n",
    "    else:\n",
    "        results['Dataset']='MLVS-PT'\n",
    "    results['mae']=get_mae(results['true'].values, results['pred'].values)\n",
    "    results['bias']=get_bias(results['true'].values, results['pred'].values)\n",
    "    results['nbias']=get_nbias(results['true'].values, results['pred'].values)\n",
    "    results['mse']=get_mse(results['true'].values, results['pred'].values)\n",
    "    results['rmse']=results['mse']**0.5\n",
    "    results['mape']=get_mape(results['true'].values, results['pred'].values)\n",
    "    results['residual']=results['true'].values-results['pred'].values\n",
    "    results['smape']=get_smape(results['true'].values, results['pred'].values)\n",
    "    \n",
    "    results['timestamp']=results.index\n",
    "    results=results.set_index('timestamp')\n",
    "    results=add_time_features(results, hemisphere = 'Northern')\n",
    "    \n",
    "    return results\n",
    "    "
   ]
  },
  {
   "cell_type": "code",
   "execution_count": null,
   "id": "ea6b3e3e-7cc1-4608-9fad-2b34924ef82d",
   "metadata": {},
   "outputs": [],
   "source": [
    "results=get_results_per_dataset(['CATBOOST'], dataset, experiment_name, window_type)\n",
    "lowest_netload=np.where(results['true']<0)[0]\n",
    "highest_netload=np.where(results['true']>90)[0]"
   ]
  },
  {
   "cell_type": "markdown",
   "id": "d2d84e7f",
   "metadata": {},
   "source": [
    "### Metrics with peaks and valley PT'dataset"
   ]
  },
  {
   "cell_type": "code",
   "execution_count": null,
   "id": "5c738e03",
   "metadata": {
    "ExecuteTime": {
     "end_time": "2023-05-06T06:49:37.847200Z",
     "start_time": "2023-05-06T06:49:37.836686Z"
    }
   },
   "outputs": [],
   "source": [
    "figure_path='../figures/SmartGridPaper/'"
   ]
  },
  {
   "cell_type": "code",
   "execution_count": null,
   "id": "1de1ed11-6975-4efe-b02b-e939fa40aea9",
   "metadata": {},
   "outputs": [],
   "source": [
    "df.columns"
   ]
  },
  {
   "cell_type": "code",
   "execution_count": null,
   "id": "8a2be6fe",
   "metadata": {
    "ExecuteTime": {
     "end_time": "2023-05-06T06:42:59.416563Z",
     "start_time": "2023-05-06T06:42:55.643550Z"
    },
    "code_folding": []
   },
   "outputs": [],
   "source": [
    "## Metrics at peak and valley\n",
    "idx=highest_netload[2]\n",
    "fig, ax = plt.subplots(2, 3, figsize=(10, 4.0), sharex=False)\n",
    "ax = ax.ravel()\n",
    "df=results.iloc[idx-48:idx+48]\n",
    "df['nrmse']=df.rmse/df.true.max()\n",
    "#df=df/df.max(axis=0)\n",
    "ax[0].plot(df['true'].values, \".\", mec=\"C2\", mfc=\"None\", label='True')\n",
    "ax[0].plot(df['pred'].values,  '--',  c='C0', label='Pred')\n",
    "ax[0].set_ylabel('Power (kW)')\n",
    "ax[0].legend(loc='upper left', fontsize=10)\n",
    "\n",
    "ax2 = ax[0].twinx()\n",
    "ax2.plot(df['mae'].values, c='C1', label='MAE')\n",
    "ax2.set_ylabel('MAE')\n",
    "ax2.legend(loc='upper right', fontsize=10)\n",
    "\n",
    "ax[1].plot(df['true'].values, \".\", mec=\"C2\", mfc=\"None\", label='True')\n",
    "ax[1].plot(df['pred'].values,  '--',  c='C0', label='Pred')\n",
    "ax[1].set_ylabel('Power (kW)')\n",
    "#ax[1].legend(loc='upper left')\n",
    "ax3 = ax[1].twinx()\n",
    "ax3.plot(df['mape'].values, c='C1', label='MAPE')\n",
    "ax3.set_ylabel('MAPE')\n",
    "ax3.legend(loc='upper right', fontsize=10)\n",
    "\n",
    "\n",
    "ax[2].plot(df['true'].values, \".\", mec=\"C2\", mfc=\"None\", label='True')\n",
    "ax[2].plot(df['pred'].values,  '--',  c='C0', label='Pred')\n",
    "ax[2].set_ylabel('Power (kW)')\n",
    "#ax[2].legend(loc='upper left')\n",
    "ax3 = ax[2].twinx()\n",
    "ax3.plot(df['smape'].values, c='C1', label='SMAPE')\n",
    "ax3.set_ylabel('SMAPE')\n",
    "ax3.legend(loc='upper right', fontsize=10)\n",
    "\n",
    "\n",
    "ax[3].plot(df['true'].values, \".\", mec=\"C2\", mfc=\"None\", label='True')\n",
    "ax[3].plot(df['pred'].values,  '--',  c='C0', label='Pred')\n",
    "ax[3].set_ylabel('Power (kW)')\n",
    "#ax[3].legend(loc='upper left')\n",
    "ax3 = ax[3].twinx()\n",
    "ax3.plot(df['nrmse'].values, c='C1', label='NRMSE')\n",
    "ax3.set_ylabel('NRMSE')\n",
    "ax3.legend(loc='upper right', fontsize=10)\n",
    "\n",
    "ax[4].plot(df['true'].values, \".\", mec=\"C2\", mfc=\"None\", label='True')\n",
    "ax[4].plot(df['pred'].values,  '--',  c='C0', label='Pred')\n",
    "ax[4].set_ylabel('Power (kW)')\n",
    "#ax[3].legend(loc='upper left')\n",
    "ax3 = ax[4].twinx()\n",
    "ax3.plot(df['nbias'].values, c='C1', label='NBIAS')\n",
    "ax3.set_ylabel('NBIAS')\n",
    "ax3.legend(loc='upper right', fontsize=10)\n",
    "\n",
    "fig.tight_layout()\n",
    "#fig.savefig(f'{figure_path}/metrics_with_valley_and_peaks.pdf', dpi=480)"
   ]
  },
  {
   "cell_type": "code",
   "execution_count": null,
   "id": "8c3da833",
   "metadata": {
    "ExecuteTime": {
     "end_time": "2023-05-06T06:43:04.410698Z",
     "start_time": "2023-05-06T06:43:02.946332Z"
    }
   },
   "outputs": [],
   "source": [
    "fig=sns.jointplot(data=df, x=\"residual\", y=\"mae\", kind=\"reg\", palette=\"tab10\", height=2.8, color='C6')\n",
    "fig.set_axis_labels('residual', 'MAE', fontsize=12)\n",
    "fig.figure.tight_layout()\n",
    "#fig.savefig(f'{figure_path}/metrics_with_valley_and_peaks_joint_mae.pdf', dpi=480)"
   ]
  },
  {
   "cell_type": "code",
   "execution_count": null,
   "id": "1e04a214",
   "metadata": {
    "ExecuteTime": {
     "end_time": "2023-05-06T06:43:07.644719Z",
     "start_time": "2023-05-06T06:43:06.155320Z"
    }
   },
   "outputs": [],
   "source": [
    "fig=sns.jointplot(data=df, x=\"residual\", y=\"mape\", kind=\"reg\", palette=\"tab10\", height=2.8, color='C6')\n",
    "fig.set_axis_labels('residual', 'MAPE', fontsize=12)\n",
    "fig.figure.tight_layout()\n",
    "#fig.savefig(f'{figure_path}/metrics_with_valley_and_peaks_joint_mape.pdf', dpi=480)"
   ]
  },
  {
   "cell_type": "code",
   "execution_count": null,
   "id": "82ba6396",
   "metadata": {
    "ExecuteTime": {
     "end_time": "2023-05-06T06:43:09.299756Z",
     "start_time": "2023-05-06T06:43:07.741809Z"
    }
   },
   "outputs": [],
   "source": [
    "fig=sns.jointplot(data=df, x=\"residual\", y=\"smape\", kind=\"reg\", palette=\"tab10\", height=2.8, color='C6')\n",
    "fig.set_axis_labels('residual', 'SMAPE', fontsize=12)\n",
    "fig.figure.tight_layout()\n",
    "#fig.savefig(f'{figure_path}/metrics_with_valley_and_peaks_joint_smape.pdf', dpi=480)"
   ]
  },
  {
   "cell_type": "code",
   "execution_count": null,
   "id": "92419a1b",
   "metadata": {
    "ExecuteTime": {
     "end_time": "2023-05-06T06:43:10.986821Z",
     "start_time": "2023-05-06T06:43:09.397847Z"
    }
   },
   "outputs": [],
   "source": [
    "fig=sns.jointplot(data=df, x=\"residual\", y=\"nrmse\", kind=\"reg\", palette=\"tab10\", height=2.8, color='C6')\n",
    "fig.set_axis_labels('residual', 'NRMSE', fontsize=12)\n",
    "fig.figure.tight_layout()\n",
    "#fig.savefig(f'{figure_path}/metrics_with_valley_and_peaks_joint_mse.pdf', dpi=480)"
   ]
  },
  {
   "cell_type": "code",
   "execution_count": null,
   "id": "84d3c751",
   "metadata": {
    "ExecuteTime": {
     "end_time": "2023-05-06T06:43:12.715430Z",
     "start_time": "2023-05-06T06:43:11.081909Z"
    }
   },
   "outputs": [],
   "source": [
    "fig=sns.jointplot(data=df, x=\"residual\", y=\"nbias\", palette=\"tab10\", height=2.8,  color='C6')\n",
    "fig.set_axis_labels('residual', 'NBIAS', fontsize=12)\n",
    "fig.figure.tight_layout()\n",
    "#fig.savefig(f'{figure_path}/metrics_with_valley_and_peaks_joint_nbias.pdf', dpi=480)"
   ]
  },
  {
   "cell_type": "code",
   "execution_count": null,
   "id": "fffb69d7",
   "metadata": {
    "ExecuteTime": {
     "end_time": "2023-05-06T06:43:17.106015Z",
     "start_time": "2023-05-06T06:43:14.415013Z"
    }
   },
   "outputs": [],
   "source": [
    "fig, ax = plt.subplots(1,1, figsize=(3.,2.0))\n",
    "sns.histplot(results.residual.values, kde=True, ax=ax, color='C6')\n",
    "ax.axvline(results.residual.values.mean(), color='r', linestyle=\"--\")\n",
    "ax.set_xlabel(\"Residual\", fontsize=10)\n",
    "ax.set_ylabel(\"Counts\", fontsize=10)\n",
    "fig.tight_layout()\n",
    "#fig.savefig(f'{figure_path}/residual_sample_.pdf', dpi=480)"
   ]
  },
  {
   "cell_type": "code",
   "execution_count": null,
   "id": "43c3a4d3",
   "metadata": {
    "ExecuteTime": {
     "end_time": "2023-05-06T06:43:18.286120Z",
     "start_time": "2023-05-06T06:43:17.202610Z"
    }
   },
   "outputs": [],
   "source": [
    "fig, ax = plt.subplots(1,1, figsize=(3.,2.1)) \n",
    "probplot(df.residual.values, dist=\"norm\", plot=ax)\n",
    "ax.set_xlabel(\"Theoretical Quantiles\", fontsize=10)\n",
    "ax.set_ylabel(\"Sample Quantiles\", fontsize=10)\n",
    "ax.set_title(\"\", fontsize=10)\n",
    "fig.tight_layout()\n",
    "#fig.savefig(f'{figure_path}/QQplot_sample_.pdf', dpi=480)"
   ]
  },
  {
   "cell_type": "code",
   "execution_count": null,
   "id": "cf69067a",
   "metadata": {
    "ExecuteTime": {
     "start_time": "2023-05-06T06:43:10.918Z"
    }
   },
   "outputs": [],
   "source": [
    "#fig, (ax1,ax2) = plt.subplots(1,2, figsize=(6,3)) \n",
    "#sns.scatterplot(data=results, x='residual', y='nbias', ax=ax1, hue='Season').set(title='Data')\n",
    "#ax1.get_legend().remove()\n",
    "#sns.move_legend(ax2, \"upper left\", bbox_to_anchor=(1.05, 0.8));"
   ]
  },
  {
   "cell_type": "markdown",
   "id": "990c8cda",
   "metadata": {
    "code_folding": []
   },
   "source": [
    "## Metrics across different models"
   ]
  },
  {
   "cell_type": "code",
   "execution_count": null,
   "id": "fabb7b0c",
   "metadata": {
    "ExecuteTime": {
     "end_time": "2023-05-07T06:26:31.204441Z",
     "start_time": "2023-05-07T06:26:31.192830Z"
    }
   },
   "outputs": [],
   "source": [
    "transformer_kva=250\n",
    "p_factor=0.8\n",
    "installed_capacity=results['true'].max()"
   ]
  },
  {
   "cell_type": "code",
   "execution_count": null,
   "id": "9db28924",
   "metadata": {
    "ExecuteTime": {
     "end_time": "2023-05-07T13:42:10.828029Z",
     "start_time": "2023-05-07T13:41:50.633136Z"
    }
   },
   "outputs": [],
   "source": [
    "all_metrics={}\n",
    "all_residual={}\n",
    "all_data={}\n",
    "for  window_type in ['expanding',  'train_test']:\n",
    "    \n",
    "    if window_type=='train_test':\n",
    "        cross_valid=['test-two', 'test-one']\n",
    "    else:\n",
    "        cross_valid=list(range(1, 11))\n",
    "    metrics, residual, data=get_results_per_experiment(models, dataset, experiment_name, window_type, cross_valid)\n",
    "    metrics['window']=window_type\n",
    "    all_metrics[window_type]=metrics\n",
    "    all_residual[window_type]=residual\n",
    "    all_data[window_type]=data\n",
    "    \n",
    "metrics=pd.concat(all_metrics.values())\n",
    "metrics['nrmse']=metrics['rmse']/installed_capacity"
   ]
  },
  {
   "cell_type": "code",
   "execution_count": null,
   "id": "77064a20",
   "metadata": {
    "ExecuteTime": {
     "end_time": "2023-05-07T12:29:12.010625Z",
     "start_time": "2023-05-07T12:29:11.981054Z"
    }
   },
   "outputs": [],
   "source": [
    "met=['nrmse', 'mae', 'mape', 'smape', 'nbias']\n",
    "res=metrics[metrics['window']=='expanding'].groupby(['Model'])[met].mean().sort_values('mae').round(3)\n",
    "#res=metrics[metrics['window']=='expanding'].groupby('Model')[met].std().sort_values('nrmse').round(2)\n",
    "table = res.to_latex(index=True, formatters={\"name\": str.upper},\n",
    "                  float_format=\"{:.3f}\".format)\n",
    "# Print the LaTeX table\n",
    "res"
   ]
  },
  {
   "cell_type": "markdown",
   "id": "b8a72a15-8191-4235-870b-c2ec7b732e29",
   "metadata": {},
   "source": [
    "### Analyse how each metric rank different models across seasons"
   ]
  },
  {
   "cell_type": "code",
   "execution_count": null,
   "id": "a76c7121-96de-4833-a3ac-d26bd6e98b20",
   "metadata": {},
   "outputs": [],
   "source": [
    "### Analyse how each metric rank different models across seasons"
   ]
  },
  {
   "cell_type": "code",
   "execution_count": null,
   "id": "f7a84302",
   "metadata": {
    "ExecuteTime": {
     "end_time": "2023-05-06T16:04:19.425495Z",
     "start_time": "2023-05-06T16:04:19.400948Z"
    }
   },
   "outputs": [],
   "source": [
    "metrics[metrics['window']=='expanding'].groupby([ 'Season','Model'])[met].mean()"
   ]
  },
  {
   "cell_type": "code",
   "execution_count": null,
   "id": "3bd49c1e",
   "metadata": {
    "ExecuteTime": {
     "end_time": "2023-05-07T12:32:00.139654Z",
     "start_time": "2023-05-07T12:31:56.685163Z"
    }
   },
   "outputs": [],
   "source": [
    "az.style.use([\"science\", 'arviz-doc'])\n",
    "def per_metric_plot(data, metric='nrmse'):\n",
    "    fig=sns.catplot(data=data, \n",
    "                    x='Model', \n",
    "                    y=metric, \n",
    "                    estimator='median',\n",
    "                    hue='Season', \n",
    "                    hue_order=['Autumn', 'Winter', 'Spring', 'Summer'],\n",
    "                    sharex=False, margin_titles=True,\n",
    "                    height=3.25, aspect=1.0,\n",
    "                    #order=['CAT',  'LSTM',  'NHiTS', 'NBEATS', \"MLPFPQ\"],\n",
    "                    #palette={\"MLVS-PT\": \"C1\", \"SPS-UK\": \"C2\"},\n",
    "                    order=[ 'CAT', 'L-REG',  'MSTL', 'S-Naive'],\n",
    "                     kind='point',\n",
    "                    legend='auto', legend_out=False)\n",
    "    return fig\n",
    "fig= per_metric_plot(metrics[metrics['window']=='expanding'].reset_index(), metric='mae')\n",
    "fig.set_axis_labels( 'Model', 'MAE', fontsize=12)\n",
    "fig.figure.tight_layout() \n",
    "fig.set_titles(row_template=\"{row_name} Season\")\n",
    "plt.legend(loc='upper left', fontsize=10)\n",
    "plt.xticks(rotation=90);\n",
    "fig.set(ylim=(1, 15))\n",
    "#fig.savefig(f'{figure_path}/Expanding_MAE.pdf', dpi=480)"
   ]
  },
  {
   "cell_type": "code",
   "execution_count": null,
   "id": "26f9c16d",
   "metadata": {
    "ExecuteTime": {
     "end_time": "2023-05-07T12:33:26.612577Z",
     "start_time": "2023-05-07T12:33:23.056855Z"
    }
   },
   "outputs": [],
   "source": [
    "fig= per_metric_plot(metrics[metrics['window']=='expanding'].reset_index(), metric='mape')\n",
    "fig.set_axis_labels( 'Model', 'MAPE', fontsize=12)\n",
    "fig.figure.tight_layout() \n",
    "fig.set_titles(row_template=\"{row_name} Season\")\n",
    "plt.legend(loc='upper left', fontsize=10)\n",
    "plt.xticks(rotation=90);\n",
    "fig.set(ylim=(0, 0.4))\n",
    "#fig.savefig(f'{figure_path}/Expanding_MAPE.pdf', dpi=480)"
   ]
  },
  {
   "cell_type": "code",
   "execution_count": null,
   "id": "717234cc",
   "metadata": {
    "ExecuteTime": {
     "end_time": "2023-05-07T12:33:47.774359Z",
     "start_time": "2023-05-07T12:33:44.240937Z"
    }
   },
   "outputs": [],
   "source": [
    "fig= per_metric_plot(metrics[metrics['window']=='expanding'].reset_index(), metric='smape')\n",
    "fig.set_axis_labels( 'Model', 'SMAPE', fontsize=12)\n",
    "fig.figure.tight_layout() \n",
    "fig.set_titles(row_template=\"{row_name} Season\")\n",
    "plt.legend(loc='upper left', fontsize=10)\n",
    "plt.xticks(rotation=90);\n",
    "fig.set(ylim=(0, 0.4))\n",
    "#fig.savefig(f'{figure_path}/Expanding_SMAPE.pdf', dpi=480)"
   ]
  },
  {
   "cell_type": "code",
   "execution_count": null,
   "id": "61704594",
   "metadata": {
    "ExecuteTime": {
     "end_time": "2023-05-07T12:53:32.157556Z",
     "start_time": "2023-05-07T12:53:28.435105Z"
    }
   },
   "outputs": [],
   "source": [
    "fig= per_metric_plot(metrics[metrics['window']=='expanding'].reset_index(), metric='nbias')\n",
    "fig.set_axis_labels( 'Model', 'NBIAS', fontsize=12)\n",
    "fig.figure.tight_layout() \n",
    "fig.set_titles(row_template=\"{row_name} Season\")\n",
    "plt.legend(loc='lower left', fontsize=10)\n",
    "plt.xticks(rotation=90);\n",
    "\n",
    "plt.axhline(y=2, color='black', linestyle='--', alpha=0.21)\n",
    "plt.axhline(y=-2, color='black', linestyle='--', alpha=0.21)\n",
    "fig.set(ylim=(-7.5, 8.0))\n",
    "#fig.savefig(f'{figure_path}/Expanding_NBIAS.pdf', dpi=480)"
   ]
  },
  {
   "cell_type": "code",
   "execution_count": null,
   "id": "5eb39cbc",
   "metadata": {
    "ExecuteTime": {
     "end_time": "2023-05-07T12:42:07.406700Z",
     "start_time": "2023-05-07T12:42:03.816616Z"
    }
   },
   "outputs": [],
   "source": [
    "fig= per_metric_plot(metrics[metrics['window']=='expanding'].reset_index(), metric='nrmse')\n",
    "fig.set_axis_labels( 'Model', 'NRMSE', fontsize=12)\n",
    "fig.figure.tight_layout() \n",
    "fig.set_titles(row_template=\"{row_name} Season\")\n",
    "plt.legend(loc='upper left', fontsize=10)\n",
    "plt.xticks(rotation=90);\n",
    "fig.set(ylim=(0, 0.2))\n",
    "#fig.savefig(f'{figure_path}/Expanding_NRMSE.pdf', dpi=480)"
   ]
  },
  {
   "cell_type": "code",
   "execution_count": null,
   "id": "d3bf187c",
   "metadata": {},
   "outputs": [],
   "source": [
    "\n"
   ]
  },
  {
   "cell_type": "markdown",
   "id": "41034a7d",
   "metadata": {},
   "source": [
    "## Metrics agreebleness"
   ]
  },
  {
   "cell_type": "code",
   "execution_count": null,
   "id": "7f947d12",
   "metadata": {
    "ExecuteTime": {
     "end_time": "2023-05-06T09:44:59.260431Z",
     "start_time": "2023-05-06T09:44:59.252424Z"
    }
   },
   "outputs": [],
   "source": [
    "def get_correlation(data, variable='NetLoad', column=None):\n",
    "    non_zero_varlist=[variable]+column\n",
    "    correlations =  data[non_zero_varlist].corr().unstack().sort_values(ascending=False) # Build correlation matrix\n",
    "    correlations = pd.DataFrame(correlations).reset_index() # Convert to dataframe\n",
    "    correlations.columns = ['col1', 'col2', 'correlation'] # Label it\n",
    "    load_corr=correlations.query(f\"col1 == {variable} & col2 != {variable}\")\n",
    "    load_corr[np.abs(load_corr['correlation'])>=0.3]\n",
    "    return load_corr[np.abs(load_corr['correlation'])>=0.3]\n",
    "\n",
    "def plot_correlation(ax, data, variable=[\"NetLoad\", \"Load\"], column=None):\n",
    "    corr = data[variable+column].corr()\n",
    "    mask = np.zeros_like(corr, dtype=np.bool)\n",
    "    mask[np.triu_indices_from(mask)] = True\n",
    "\n",
    "    # Colors\n",
    "    cmap = sns.diverging_palette(240, 10, as_cmap=True)\n",
    "    ax=sns.heatmap(corr, mask=mask, linewidths=.5, cmap=cmap, center=0, annot=True, fmt=\".1g\")\n",
    "    ax.set_xticklabels(ax.get_xticklabels(), rotation=45, horizontalalignment=\"right\")\n",
    "    ax.set_yticklabels(ax.get_yticklabels(), rotation=0, horizontalalignment=\"right\")\n",
    "    ax.set_title(\"Correlation Heatmap\")\n",
    "    return ax"
   ]
  },
  {
   "cell_type": "code",
   "execution_count": null,
   "id": "c6053540",
   "metadata": {
    "ExecuteTime": {
     "end_time": "2023-05-06T10:15:07.120504Z",
     "start_time": "2023-05-06T10:15:05.323334Z"
    }
   },
   "outputs": [],
   "source": [
    "data=metrics[metrics['window']=='expanding']\n",
    "data_rnn=data[data['Model'].isin(['RNN'])]\n",
    "col_met=['nrmse', 'mae',  'mape', 'smape',  'nbias', 'res']\n",
    "col=['NRME', 'MAE',  'MAPE', 'SMAPE',  'NBIAS', 'RES']\n",
    "corr = data[col_met].corr()\n",
    "cmap = sns.light_palette('#525252', as_cmap=True)\n",
    "#cmap = sns.diverging_palette(240, 10, as_cmap=True)\n",
    "fig, ax = plt.subplots(1,1, figsize=(5.5,5.5))\n",
    "#plt.imshow(corr.astype(float).values, cmap=cmap)\n",
    "mask = np.zeros_like(corr, dtype=bool)\n",
    "mask[np.triu_indices_from(mask)] = True\n",
    "ax=sns.heatmap(corr.astype(float).values, mask=mask, linewidths=.5, cmap=cmap, center=0, annot=True, fmt=\".1g\")\n",
    "plt.xticks(range(len(col)), col, rotation=90.)\n",
    "plt.yticks(range(len(col)), col)\n",
    "ax.plot(range(corr.shape[0]), range(corr.shape[0]), 'wx')\n",
    "#plt.colorbar(ax=ax)"
   ]
  },
  {
   "cell_type": "markdown",
   "id": "31a7a49e",
   "metadata": {},
   "source": [
    "## Statistical test"
   ]
  },
  {
   "cell_type": "code",
   "execution_count": null,
   "id": "e2263013",
   "metadata": {
    "ExecuteTime": {
     "end_time": "2023-05-07T05:58:10.995862Z",
     "start_time": "2023-05-07T05:58:10.976843Z"
    }
   },
   "outputs": [],
   "source": [
    "data=all_data['expanding']\n",
    "def get_net_load(data):\n",
    "    net_load=data.true.iloc[:, 0]\n",
    "    data=data[[  'MSTL','SeasonalNaive',  'RF',  'CATBOOST', 'LREGRESS']]\n",
    "    data=data.rename(columns={'SeasonalNaive':'S-NAIVE',  'LREGRESS':'L-REG', 'CATBOOST':'CAT',  'AutoARIMA':'ARIMA'})\n",
    "    data['NetLoad']=net_load.values\n",
    "    # Transforming indices to datetime format\n",
    "    data.index = pd.to_datetime(data.index)\n",
    "    data.head()\n",
    "    real_netload = data.loc[:, ['NetLoad']]\n",
    "    del data['NetLoad']\n",
    "    return data, real_netload"
   ]
  },
  {
   "cell_type": "code",
   "execution_count": null,
   "id": "87587ee6",
   "metadata": {
    "ExecuteTime": {
     "end_time": "2023-05-07T05:58:11.759989Z",
     "start_time": "2023-05-07T05:58:11.724588Z"
    }
   },
   "outputs": [],
   "source": [
    "data, real_netload=get_net_load(data)"
   ]
  },
  {
   "cell_type": "code",
   "execution_count": null,
   "id": "b9dac37f",
   "metadata": {
    "ExecuteTime": {
     "end_time": "2023-05-07T06:06:26.830721Z",
     "start_time": "2023-05-07T06:06:22.632537Z"
    }
   },
   "outputs": [],
   "source": [
    "fig, ax = plt.subplots(1,1, figsize=(3.5,3))\n",
    "p_value=run_statistical_test(ax, real_netload, data, norm=2, test='GW')\n",
    "#ax.set_title('')\n",
    "#fig.savefig(f'{figure_path}/GW_test_model.pdf', dpi=480)"
   ]
  },
  {
   "cell_type": "code",
   "execution_count": null,
   "id": "c53f5a85",
   "metadata": {
    "ExecuteTime": {
     "end_time": "2023-05-07T06:05:46.578442Z",
     "start_time": "2023-05-07T06:05:44.285157Z"
    }
   },
   "outputs": [],
   "source": [
    "fig, ax = plt.subplots(1,1, figsize=(3.5,3))\n",
    "p_values=p_value=run_statistical_test(ax, real_netload, data, norm=2, test='DM')\n",
    "#ax.set_title('')\n",
    "#fig.savefig(f'{figure_path}/DM_test_model.pdf', dpi=480)"
   ]
  },
  {
   "cell_type": "markdown",
   "id": "f747ae84",
   "metadata": {},
   "source": [
    "Note: P-value close to zero represent cases where the forecast in the x-axis is significant more accurate than the forecast in the y-axis"
   ]
  },
  {
   "cell_type": "code",
   "execution_count": null,
   "id": "f302e9f1",
   "metadata": {
    "ExecuteTime": {
     "end_time": "2023-05-07T07:58:03.807153Z",
     "start_time": "2023-05-07T07:58:03.780605Z"
    }
   },
   "outputs": [],
   "source": [
    "data=all_data['train_test']\n",
    "data, real_netload=get_net_load(data)"
   ]
  },
  {
   "cell_type": "code",
   "execution_count": null,
   "id": "0f7c1529",
   "metadata": {
    "ExecuteTime": {
     "end_time": "2023-05-07T07:58:11.259808Z",
     "start_time": "2023-05-07T07:58:08.981912Z"
    }
   },
   "outputs": [],
   "source": [
    "fig, ax = plt.subplots(1,1, figsize=(3.5,3))\n",
    "p_values=p_value=run_statistical_test(ax, real_netload, data, norm=1, test='DM')\n",
    "#fig.savefig(f'{figure_path}/DM_test_model_test_2.pdf', dpi=480)"
   ]
  },
  {
   "cell_type": "markdown",
   "id": "ed4bdd1e",
   "metadata": {},
   "source": [
    "## Metrics with different data spiliting"
   ]
  },
  {
   "cell_type": "code",
   "execution_count": null,
   "id": "9a050f90-724a-4410-bef9-b2802ff371fb",
   "metadata": {},
   "outputs": [],
   "source": [
    "def per_dtype_plot(data, metric='nrmse'):\n",
    "    fig=sns.catplot(data=data, \n",
    "                    x='Model', \n",
    "                    y=metric, \n",
    "                    hue='D-type', \n",
    "                    estimator='median',\n",
    "                    #hue_order=['Autumn', 'Winter', 'Spring', 'Summer'],\n",
    "                    sharex=False, margin_titles=True,\n",
    "                    height=3.5, aspect=1.0,\n",
    "                    #order=['CAT',  'LSTM',  'NHiTS', 'NBEATS', \"MLPFPQ\"],\n",
    "                    #palette={\"MLVS-PT\": \"C1\", \"SPS-UK\": \"C2\"},\n",
    "                    order=[ 'CAT', 'L-REG',  'MSTL', 'S-Naive'],\n",
    "                     kind='point',\n",
    "                   legend='auto', legend_out=False)\n",
    "    return fig"
   ]
  },
  {
   "cell_type": "code",
   "execution_count": null,
   "id": "483cb778-9bb8-4c6b-8e84-11b53d402a6f",
   "metadata": {},
   "outputs": [],
   "source": [
    "test_one=metrics[metrics['Fold']=='test-one']\n",
    "#test_one=test_one[test_one.Season=='Winter']\n",
    "test_one['D-type']='Train-test-1'\n",
    "test_two=metrics[metrics['Fold']=='test-two']\n",
    "#test_two=test_two[test_two.Season=='Summer']\n",
    "test_two['D-type']='Train-test-2'\n",
    "window=metrics[metrics['window']=='expanding']\n",
    "window['D-type']='Expanding'\n",
    "data_spiliting=pd.concat([test_one, test_two, window, rolling])"
   ]
  },
  {
   "cell_type": "code",
   "execution_count": null,
   "id": "3258b979-15b7-4b60-ac51-442c9e7e4339",
   "metadata": {},
   "outputs": [],
   "source": [
    "fig= per_dtype_plot(data_spiliting.reset_index(), metric='mae')\n",
    "fig.set_axis_labels( 'Model', 'MAE', fontsize=12)\n",
    "fig.figure.tight_layout() \n",
    "fig.set_titles(row_template=\"{row_name} Season\")\n",
    "plt.legend(loc='lower right', fontsize=10)\n",
    "plt.xticks(rotation=90);\n",
    "fig.set(ylim=(0, 10))\n",
    "#fig.savefig(f'{figure_path}/D-type_MAE.pdf', dpi=480)"
   ]
  },
  {
   "cell_type": "code",
   "execution_count": null,
   "id": "5447c801-a802-4907-9e36-31b196874307",
   "metadata": {},
   "outputs": [],
   "source": [
    "fig= per_dtype_plot(data_spiliting.reset_index(), metric='mape')\n",
    "fig.set_axis_labels( 'Model', 'MAPE', fontsize=12)\n",
    "fig.figure.tight_layout() \n",
    "fig.set_titles(row_template=\"{row_name} Season\")\n",
    "plt.legend(loc='upper right', fontsize=10)\n",
    "plt.xticks(rotation=90);\n",
    "fig.set(ylim=(0, 0.6))"
   ]
  },
  {
   "cell_type": "code",
   "execution_count": null,
   "id": "826866d7-e3d4-4a5f-9a29-0f276f71070a",
   "metadata": {},
   "outputs": [],
   "source": [
    "fig= per_dtype_plot(data_spiliting.reset_index(), metric='smape')\n",
    "fig.set_axis_labels( 'Model', 'SMAPE', fontsize=12)\n",
    "fig.figure.tight_layout() \n",
    "fig.set_titles(row_template=\"{row_name} Season\")\n",
    "plt.legend(loc='upper right', fontsize=10)\n",
    "plt.xticks(rotation=90);\n",
    "fig.set(ylim=(0, 0.6))"
   ]
  },
  {
   "cell_type": "code",
   "execution_count": null,
   "id": "62dfc808-4b31-4b4b-805b-3c14d720d96b",
   "metadata": {},
   "outputs": [],
   "source": [
    "fig= per_dtype_plot(data_spiliting.reset_index(), metric='nbias')\n",
    "fig.set_axis_labels( 'Model', 'NBIAS', fontsize=12)\n",
    "fig.figure.tight_layout() \n",
    "fig.set_titles(row_template=\"{row_name} Season\")\n",
    "plt.legend(loc='upper left', fontsize=10)\n",
    "plt.xticks(rotation=90);\n",
    "fig.set(ylim=(-10, 10))"
   ]
  },
  {
   "cell_type": "code",
   "execution_count": null,
   "id": "b4708147-bdba-4725-a0b1-9200092270f9",
   "metadata": {},
   "outputs": [],
   "source": [
    "data_spiliting.groupby(['D-type', 'Model']).median().sort_values('mae').round(2)[met]"
   ]
  },
  {
   "cell_type": "markdown",
   "id": "62ec7817",
   "metadata": {
    "ExecuteTime": {
     "end_time": "2023-05-06T16:24:15.912321Z",
     "start_time": "2023-05-06T16:24:15.900805Z"
    }
   },
   "source": [
    "## Computation Metrics"
   ]
  },
  {
   "cell_type": "code",
   "execution_count": null,
   "id": "5933d9a4",
   "metadata": {
    "ExecuteTime": {
     "end_time": "2023-05-07T06:20:25.112120Z",
     "start_time": "2023-05-07T06:20:25.097601Z"
    }
   },
   "outputs": [],
   "source": [
    "data=metrics[metrics['window']=='expanding']\n",
    "data=data[data['Model'].isin([ 'S-Naive','L-REG', 'MSTL', 'RF',  'NHiTS', 'RNN',  'CAT', 'NBEATS'])]"
   ]
  },
  {
   "cell_type": "code",
   "execution_count": null,
   "id": "4a583ea2",
   "metadata": {
    "ExecuteTime": {
     "end_time": "2023-05-07T05:36:56.996981Z",
     "start_time": "2023-05-07T05:36:56.297760Z"
    }
   },
   "outputs": [],
   "source": [
    "alt.Chart(data).mark_bar().encode(\n",
    "    x=alt.X('Model', title=None, sort=[ 'S-Naive','L-REG', 'MSTL', 'RF',  'NHiTS', 'RNN', 'NBEATS', 'CAT']),\n",
    "    y=alt.Y('Test-time', scale=alt.Scale(domain=[0, 10]), title=\"Inference time (second)\"),\n",
    "    color=alt.Color('Model', scale=alt.Scale(scheme='tableau20'))\n",
    "   \n",
    ").configure_axis(\n",
    "    grid=False,\n",
    "    labelFontSize=12,\n",
    "    titleFontSize=12\n",
    ").configure_view(\n",
    "    strokeOpacity=0\n",
    ").resolve_scale(x='independent'\n",
    ").properties(width=100,\n",
    "                height=120\n",
    ")"
   ]
  },
  {
   "cell_type": "code",
   "execution_count": null,
   "id": "9aaded4a",
   "metadata": {
    "ExecuteTime": {
     "end_time": "2023-05-07T05:50:37.116580Z",
     "start_time": "2023-05-07T05:50:36.411353Z"
    }
   },
   "outputs": [],
   "source": [
    "alt.Chart(data).mark_line(point={\n",
    "      \"filled\": False,\n",
    "      \"fill\": \"white\"\n",
    "    }).encode(\n",
    "    x=alt.X('Fold', title=None, sort=[ 'S-Naive','L-REG', 'MSTL', 'RF',  'NHiTS', 'RNN', 'NBEATS', 'CAT']),\n",
    "    y=alt.Y('Train-time', scale=alt.Scale(domain=[0, 10]), title=\"Train time (minutes)\"),\n",
    "    color=alt.Color('Model', scale=alt.Scale(scheme='tableau10'))\n",
    "   \n",
    ").configure_axis(\n",
    "    grid=False,\n",
    "    labelFontSize=12,\n",
    "    titleFontSize=12\n",
    ").configure_view(\n",
    "    strokeOpacity=0\n",
    ").properties(width=120,\n",
    "                height=120\n",
    ")"
   ]
  },
  {
   "cell_type": "code",
   "execution_count": null,
   "id": "3ed7ead9",
   "metadata": {
    "ExecuteTime": {
     "end_time": "2023-05-07T05:36:05.720478Z",
     "start_time": "2023-05-07T05:36:05.019252Z"
    }
   },
   "outputs": [],
   "source": [
    "alt.Chart(data).mark_bar().encode(\n",
    "    x=alt.X('Model', title=None, sort=[ 'S-Naive','L-REG', 'MSTL', 'RF', 'CAT', 'NHiTS', 'RNN', 'NBEATS']),\n",
    "    y=alt.Y('Train-time', scale=alt.Scale(domain=[0, 10]), title=\"Train-time (minutes)\"),\n",
    "    color=alt.Color('Model', scale=alt.Scale(scheme='tableau20'))\n",
    "   \n",
    ").configure_axis(\n",
    "    grid=False,\n",
    "    labelFontSize=12,\n",
    "    titleFontSize=12\n",
    ").configure_view(\n",
    "    strokeOpacity=0\n",
    ").resolve_scale(x='independent'\n",
    ").properties(width=100,\n",
    "                height=120\n",
    ")"
   ]
  },
  {
   "cell_type": "markdown",
   "id": "3e8e765e",
   "metadata": {},
   "source": [
    "## Compare residual of forecasting models"
   ]
  },
  {
   "cell_type": "markdown",
   "id": "16c39bbb",
   "metadata": {},
   "source": [
    "The residuals of a forecasting model represent the difference between the actual values and the forecasted values Analyzing the residuals, allow to determine how well the model fits the net-load and if there are any patterns or trends that the model is not capturing. For instace if the residuals are consistently positive or negative, this can indicate that the model is systematically overestimating or underestimating the dependent variable. On the other hand, if the model's residuals are small and randomly distributed around zero, this suggests that the model is performing well and accurately predicting the target variable. "
   ]
  },
  {
   "cell_type": "code",
   "execution_count": null,
   "id": "9a475527",
   "metadata": {
    "ExecuteTime": {
     "end_time": "2023-05-07T06:31:46.215007Z",
     "start_time": "2023-05-07T06:31:46.185979Z"
    }
   },
   "outputs": [],
   "source": [
    "data=all_data['train_test']\n",
    "data, real_netload=get_net_load(data)\n",
    "residual=real_netload.values-data.copy()\n",
    "best_model=['RNN',  'ARIMA', 'RF']"
   ]
  },
  {
   "cell_type": "code",
   "execution_count": null,
   "id": "3015ec87",
   "metadata": {
    "ExecuteTime": {
     "end_time": "2023-05-07T06:31:54.113263Z",
     "start_time": "2023-05-07T06:31:47.862591Z"
    }
   },
   "outputs": [],
   "source": [
    "fig, ax = plt.subplots(1, 1, figsize=(4, 3.5), sharex=True, sharey=True)\n",
    "for model_name in best_model:\n",
    "    sns.histplot(residual[model_name], kde=False, ax=ax, fill=False)\n",
    "ax.legend(best_model)"
   ]
  },
  {
   "cell_type": "code",
   "execution_count": null,
   "id": "dffb78f1",
   "metadata": {
    "ExecuteTime": {
     "end_time": "2023-05-04T19:55:58.369361Z",
     "start_time": "2023-05-04T19:55:54.941162Z"
    }
   },
   "outputs": [],
   "source": [
    "from scipy.stats import norm, probplot,  anderson, shapiro\n",
    "p_values={}\n",
    "anderson_statics={}\n",
    "anderson_critical_value={}\n",
    "fig, ax = plt.subplots(1, 4, figsize=(8, 2), sharex=True, sharey=True)\n",
    "ax = ax.ravel()\n",
    "for i, model_name in enumerate(best_model):\n",
    "    \n",
    "    sns.histplot(residual[model_name].values, kde=True, ax=ax[i], fill=False)\n",
    "   \n",
    "    result = anderson(residual[model_name].values)\n",
    "    stat, p = shapiro(residual[model_name].values)\n",
    "    p_values[model_name]=p\n",
    "    anderson_critical_value[model_name]=result.critical_values[2]\n",
    "    anderson_statics[model_name]=result.statistic\n",
    "    # Calculate mean and standard deviation of the residuals\n",
    "    mean = np.mean(residual[model_name].values)\n",
    "    std = np.std(residual[model_name].values)\n",
    "    \n",
    "        \n",
    "    if result.statistic < result.critical_values[2]:\n",
    "        print(f'{model_name} residuals appear to be normally distributed.')\n",
    "    else:\n",
    "        print(f'{model_name} residuals do not appear to be normally distributed.')\n",
    "    # Add a normal distribution curve to the histogram\n",
    "    x = np.linspace(mean - 3*std, mean + 3*std, 100)\n",
    "    ax[i].set_title(f\"{model_name}\")\n",
    "    ax[i].axvline(mean, color='r', linestyle=\"--\")\n",
    "\n",
    "    ax[i].set_xlabel(\"Residual\")\n",
    "    ax[i].set_ylabel(\"Count\")\n",
    "fig.tight_layout()\n",
    "fig.savefig(f'{figure_path}/residual_of_models.pdf', dpi=480)"
   ]
  },
  {
   "cell_type": "markdown",
   "id": "50471478",
   "metadata": {},
   "source": [
    "Anderson-Darling test is another widely used test for normality. It is similar to the Shapiro-Wilk test, but it is more sensitive to deviations from normality in the tails of the distribution. The Anderson-Darling test also provides critical values that can be used to evaluate the significance of the test statistic"
   ]
  },
  {
   "cell_type": "code",
   "execution_count": null,
   "id": "877f4bfa",
   "metadata": {
    "ExecuteTime": {
     "end_time": "2023-05-07T13:54:10.429680Z",
     "start_time": "2023-05-07T13:53:38.438442Z"
    }
   },
   "outputs": [],
   "source": [
    "import pingouin as pg\n",
    "\n",
    "for i, model_name in enumerate(metrics.Model.unique()):\n",
    "    \n",
    "    data=metrics[metrics['window']=='expanding']\n",
    "    data_i=data[data['Model'].isin([model_name])]\n",
    "    \n",
    "\n",
    "    fig=sns.jointplot(data=data_i, x=\"res\", y=\"nbias\", palette=\"tab10\", height=2.8)\n",
    "    fig.set_axis_labels('residual', 'NBIAS', fontsize=12)\n",
    "    fig.figure.tight_layout()\n",
    "    fig.savefig(f'{figure_path}/{model_name}_joint_nbias.pdf', dpi=480)"
   ]
  },
  {
   "cell_type": "code",
   "execution_count": null,
   "id": "b9474d8f",
   "metadata": {
    "ExecuteTime": {
     "end_time": "2023-05-07T06:51:06.323912Z",
     "start_time": "2023-05-07T06:50:39.628805Z"
    }
   },
   "outputs": [],
   "source": [
    "\n",
    "for i, model_name in enumerate(metrics.Model.unique()):\n",
    "    fig, ax = plt.subplots(1, 1, figsize=(3.2, 2.1), sharex=True, sharey=True)\n",
    "    data=metrics[metrics['window']=='expanding']\n",
    "    data_i=data[data['Model'].isin([model_name])]\n",
    "    ax = pg.qqplot(data_i.res, dist='norm', confidence=False, ax=ax)\n",
    "\n",
    "    #probplot(residual[model_name].values, dist=\"norm\", plot=ax[i])\n",
    "    ax.set_title(f\"{model_name}\")\n",
    "    ax.set_xlabel(\"Theoretical Quantiles\", fontsize=10)\n",
    "    ax.set_ylabel(\"Sample Quantiles\",  fontsize=10)\n",
    "    ax.set_ylim(-3, 5)\n",
    "    ax.set_xlim(-3, 5)\n",
    "    fig.tight_layout()\n",
    "    fig.savefig(f'{figure_path}/{model_name}_probplot_residual.pdf', dpi=480)"
   ]
  }
 ],
 "metadata": {
  "kernelspec": {
   "display_name": "Python 3 (ipykernel)",
   "language": "python",
   "name": "python3"
  },
  "language_info": {
   "codemirror_mode": {
    "name": "ipython",
    "version": 3
   },
   "file_extension": ".py",
   "mimetype": "text/x-python",
   "name": "python",
   "nbconvert_exporter": "python",
   "pygments_lexer": "ipython3",
   "version": "3.9.18"
  },
  "varInspector": {
   "cols": {
    "lenName": 16,
    "lenType": 16,
    "lenVar": 40
   },
   "kernels_config": {
    "python": {
     "delete_cmd_postfix": "",
     "delete_cmd_prefix": "del ",
     "library": "var_list.py",
     "varRefreshCmd": "print(var_dic_list())"
    },
    "r": {
     "delete_cmd_postfix": ") ",
     "delete_cmd_prefix": "rm(",
     "library": "var_list.r",
     "varRefreshCmd": "cat(var_dic_list()) "
    }
   },
   "types_to_exclude": [
    "module",
    "function",
    "builtin_function_or_method",
    "instance",
    "_Feature"
   ],
   "window_display": false
  }
 },
 "nbformat": 4,
 "nbformat_minor": 5
}
