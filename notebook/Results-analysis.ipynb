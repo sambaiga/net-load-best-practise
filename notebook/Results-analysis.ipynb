{
 "cells": [
  {
   "cell_type": "code",
   "execution_count": null,
   "id": "aabc155a",
   "metadata": {
    "ExecuteTime": {
     "end_time": "2023-05-14T15:22:14.334775Z",
     "start_time": "2023-05-14T15:22:12.073797Z"
    },
    "code_folding": []
   },
   "outputs": [],
   "source": [
    "#\n",
    "%matplotlib inline\n",
    "from IPython.display import clear_output\n",
    "import matplotlib\n",
    "import matplotlib_inline.backend_inline\n",
    "import arviz as az\n",
    "import numpy as np\n",
    "import pandas as pd\n",
    "import matplotlib.pyplot as plt\n",
    "import warnings\n",
    "warnings.filterwarnings(\"ignore\")\n",
    "matplotlib_inline.backend_inline.set_matplotlib_formats(\"svg\", \"pdf\", \"retina\")  # For export\n",
    "import sys \n",
    "sys.path.append(\"../src/\")\n",
    "import seaborn as sns \n",
    "import altair as alt\n",
    "from tqdm import tqdm\n",
    "import warnings\n",
    "warnings.filterwarnings(\"ignore\")\n",
    "from cycler import cycler\n",
    "figure_path='../figures/SmartGridPaper/'\n",
    "az.style.use([\"science\", 'arviz-doc'])\n",
    "nice_fonts = {\n",
    "        # Use LaTeX to write all text\n",
    "        \"font.family\": \"serif\",\n",
    "        # Always save as 'tight'\n",
    "        \"savefig.bbox\" : \"tight\",\n",
    "        \"savefig.pad_inches\" : 0.05,\n",
    "        \"ytick.right\" : False,\n",
    "        \"font.serif\" : \"Times New Roman\",\n",
    "        \"mathtext.fontset\" : \"dejavuserif\",\n",
    "        \"axes.labelsize\": 15,\n",
    "        \"font.size\": 15,\n",
    "        # Make the legend/label fonts a little smaller\n",
    "        \"legend.fontsize\": 10,\n",
    "        'legend.facecolor':'white',\n",
    "        'legend.edgecolor': 'gray',\n",
    "        \"xtick.labelsize\": 12,\n",
    "        \"ytick.labelsize\": 12,\n",
    "        # Set line widths\n",
    "        \"axes.linewidth\" : 0.5,\n",
    "        \"grid.linewidth\" : 0.5,\n",
    "        \"lines.linewidth\" : 1.,\n",
    "        # Remove legend frame\n",
    "        \"legend.frameon\" :False,\n",
    "        # color-blind friendly cycle designed using https://colorcyclepicker.mpetroff.net/\n",
    "        # see preview and check for colorblindness here https://coolors.co/107591-00c0bf-f69a48-fdcd49-8da798-a19368-525252-a6761d-7035b7-cf166e\n",
    "        'axes.prop_cycle': cycler(color=['#107591','#00c0bf','#f69a48','#fdcd49','#8da798','#a19368','#525252','#a6761d','#7035b7','#cf166e'])      \n",
    "}\n",
    "matplotlib.rcParams.update(nice_fonts)\n",
    "from utils.data_processing import add_time_features\n",
    "import altair as alt\n",
    "alt.themes.enable(\"opaque\")\n",
    "alt.data_transformers.disable_max_rows()\n"
   ]
  },
  {
   "cell_type": "markdown",
   "id": "e7b0ebbc",
   "metadata": {},
   "source": [
    "## Define metrics functions"
   ]
  },
  {
   "cell_type": "code",
   "execution_count": null,
   "id": "6a24d772",
   "metadata": {
    "ExecuteTime": {
     "end_time": "2023-05-14T15:22:14.430994Z",
     "start_time": "2023-05-14T15:22:14.367918Z"
    },
    "code_folding": []
   },
   "outputs": [],
   "source": [
    "## Metrics functions\n",
    "from sklearn.metrics import r2_score\n",
    "from utils.significant_test import run_statistical_test\n",
    "from utils.metrics import get_residual, get_mae, get_smape, get_mape, get_nbias, get_residual, get_mse, get_pointwise_metrics\n",
    "\n",
    "def get_daily_metrics(pred:np.array, true:np.array):\n",
    "    metrics=[]\n",
    "    for i in range(len(true)):\n",
    "        metric = get_pointwise_metrics(pred[i], true[i])\n",
    "        metrics.append(pd.DataFrame.from_dict(metric, orient='index').T)\n",
    "    return pd.concat(metrics)\n",
    "\n",
    "\n",
    "# functions to get all metrics\n",
    "def get_results_per_experiment(models, dataset, experiment_name, window_type, cross_valid=list(range(1,11))):\n",
    "    file_name=f'{experiment_name}_{window_type}' if window_type is not None else experiment_name\n",
    "    all_metrics=[]\n",
    "    all_residual={}\n",
    "    all_data=[]\n",
    "    # [ 'TFT', 'NBEATS',  'NHiTS', 'RNN', 'MSTL', 'SeasonalNaive', 'AutoARIMA',   \"RF\", 'CATBOOST', 'LREGRESS']\n",
    "    for encoder_type in models:\n",
    "        metrics_per_model=[]\n",
    "        residual_per_model=[]\n",
    "        data_per_model=[]\n",
    "        print(encoder_type)\n",
    "        print()\n",
    "        for cross in tqdm(cross_valid):\n",
    "            if window_type=='train_test':\n",
    "                result_path=f'../results/{file_name}/{encoder_type}/{cross}_processed_results.npy'\n",
    "                #result_path_naive=f'../results/{file_name}/SeasonalNaive/{cross}_processed_results.npy'\n",
    "            else:\n",
    "                result_path=f'../results/{file_name}/{encoder_type}/{cross}_cross_validation_processed_results.npy'\n",
    "                #result_path_naive=f'../results/{file_name}/SeasonalNaive/{cross}_cross_validation_processed_results.npy'\n",
    "            results=np.load(result_path, allow_pickle=True).item()\n",
    "            #results_naive=np.load(result_path_naive, allow_pickle=True).item()\n",
    "            time_stamp=results['index']\n",
    "            true=results['true']\n",
    "            pred=results['pred']\n",
    "            df = pd.DataFrame(time_stamp.flatten()[:len(true.flatten())])\n",
    "            df.columns=['Date']\n",
    "            df[f'{encoder_type}']=pred.flatten()\n",
    "            df['true']=true.flatten()\n",
    "            data_per_model.append(df)\n",
    "            \n",
    "            metrics=results['NetLoad_metrics']\n",
    "            index=df.Date.dt.round(\"D\").unique()\n",
    "            \n",
    "            residual=true-pred\n",
    "            residual_per_model.append(residual.flatten())\n",
    "            #pred_naive=results_naive['pred']\n",
    "            #true_naive=results_naive['true']\n",
    "            \n",
    "            metrics['Fold']=cross\n",
    "            metrics['Model']=encoder_type\n",
    "            if 'train-time' in results.keys() :\n",
    "                metrics['Train-time']=results['train-time'] \n",
    "            metrics['Test-time']=results['test-time'] if 'test-time' in results.keys() else results['test_time']\n",
    "            metrics=metrics.set_index('timestamp')\n",
    "            metrics=add_time_features(metrics, hemisphere = 'Northern')\n",
    "            metrics=metrics.replace('CATBOOST', 'CAT').replace('AutoARIMA', 'ARIMA').replace('LREGRESS', 'L-REG').replace('SeasonalNaive', 'S-Naive').replace('MLPForecast', 'MLPF')\n",
    "            metrics_per_model.append(metrics)\n",
    "        all_residual[encoder_type]=residual_per_model\n",
    "        metrics_per_model=pd.concat(metrics_per_model)\n",
    "        all_metrics.append(metrics_per_model)\n",
    "        all_data.append(pd.concat(data_per_model))\n",
    "\n",
    "    metrics=pd.concat(all_metrics)\n",
    "  \n",
    "    if dataset==\"UK\":\n",
    "        metrics['Dataset']='SPS-UK'\n",
    "    else:\n",
    "        metrics['Dataset']='MLVS-PT'\n",
    "    all_data=pd.concat(all_data, axis=1)\n",
    "    del all_metrics\n",
    "    del df \n",
    "    del results\n",
    "    #del results_naive\n",
    "    del pred\n",
    "    del true\n",
    "    \n",
    "    return metrics, all_residual, all_data"
   ]
  },
  {
   "cell_type": "code",
   "execution_count": null,
   "id": "72747dc9",
   "metadata": {
    "ExecuteTime": {
     "end_time": "2023-05-14T15:22:14.479170Z",
     "start_time": "2023-05-14T15:22:14.464120Z"
    }
   },
   "outputs": [],
   "source": [
    "forecast_len=6 \n",
    "incremental_len = 2\n",
    "min_train_len=12\n",
    "seed=777\n",
    "max_epochs=50                   \n",
    "window_type='expanding'          \n",
    "dataset=\"UK\", # Put name of Dataset\n",
    "experiment_name=\"UK-BestPractises\" # Put name of Experiment"
   ]
  },
  {
   "cell_type": "markdown",
   "id": "577db6bb",
   "metadata": {},
   "source": [
    "## Experiment 1: Metrics\n",
    "\n",
    "#### Objectives: \n",
    "\n",
    "- To understand their suitability in accurately assessing net-load forecasting, emphasizing critical aspects such as peak values and negative net-load and how each metric rank the baselines models\n",
    "- Metrics considered: NRMSE, MAE, SMAPE, MAPE, NBIAS\n",
    "\n",
    "ad."
   ]
  },
  {
   "cell_type": "code",
   "execution_count": null,
   "id": "07f16d91",
   "metadata": {
    "ExecuteTime": {
     "end_time": "2023-05-14T15:22:16.324768Z",
     "start_time": "2023-05-14T15:22:16.107989Z"
    }
   },
   "outputs": [],
   "source": [
    "models=['MSTL', 'SeasonalNaive',   \"RF\",  'LREGRESS', 'CATBOOST'] #,\n",
    "\n",
    "def get_results_per_dataset(models, dataset, experiment_name, window_type=None):\n",
    "    \n",
    "    \n",
    "    file_name=f'{experiment_name}_{window_type}' if window_type is not None else experiment_name\n",
    "    all_metrics=[]\n",
    "    all_residual={}\n",
    "    for encoder_type in models:\n",
    "        print(encoder_type)\n",
    "        print()\n",
    "        for cross in tqdm(range(1, 11)):\n",
    "            result_path=f'../results/{file_name}/{encoder_type}/{cross}_cross_validation_processed_results.npy'\n",
    "            results=np.load(result_path, allow_pickle=True).item()\n",
    "            time_stamp=results['index'].flatten()\n",
    "    \n",
    "            metrics=results['NetLoad_metrics']\n",
    "            df=pd.DataFrame(index=time_stamp)\n",
    "            df['pred']=results['pred'].flatten()\n",
    "            df['true']=results['true'].flatten()\n",
    "            all_metrics.append(df)\n",
    "            \n",
    "    results = pd.concat(all_metrics)\n",
    "    if dataset==\"UK\":\n",
    "        results['Dataset']='SPS-UK'\n",
    "    else:\n",
    "        results['Dataset']='MLVS-PT'\n",
    "    results['mae']=get_mae(results['true'].values, results['pred'].values)\n",
    "    results['nbias']=get_nbias(results['true'].values, results['pred'].values)\n",
    "    results['mse']=get_mse(results['true'].values, results['pred'].values)\n",
    "    results['rmse']=results['mse']**0.5\n",
    "    results['mape']=get_mape(results['true'].values, results['pred'].values)\n",
    "    results['residual']=results['true'].values-results['pred'].values\n",
    "    results['smape']=get_smape(results['true'].values, results['pred'].values)\n",
    "    \n",
    "    results['timestamp']=results.index\n",
    "    results=results.set_index('timestamp')\n",
    "    results=add_time_features(results, hemisphere = 'Northern')\n",
    "\n",
    "    results['nrmse']=results.rmse/results.true.max()\n",
    "    \n",
    "    return results\n"
   ]
  },
  {
   "cell_type": "markdown",
   "id": "d622d397",
   "metadata": {},
   "source": [
    "## Best practises results analysis"
   ]
  },
  {
   "cell_type": "code",
   "execution_count": null,
   "id": "6eb3314b",
   "metadata": {},
   "outputs": [],
   "source": [
    "window_type='expanding'          \n",
    "dataset=\"UK\"\n",
    "experiment_name=\"UK-BestPractises\"\n",
    "uk_results=get_results_per_dataset(['CATBOOST'], dataset, experiment_name, window_type)\n",
    "uk_lowest_netload=np.where(uk_results['true']<0)[0]\n",
    "uk_highest_netload=np.where(uk_results['true']>5)[0]"
   ]
  },
  {
   "cell_type": "code",
   "execution_count": null,
   "id": "e393f797",
   "metadata": {},
   "outputs": [],
   "source": [
    "pt_dataset=\"PT\",\n",
    "pt_experiment_name=\"PT-BestPractises\"\n",
    "pt_results=get_results_per_dataset(['CATBOOST'], pt_dataset, pt_experiment_name, window_type)\n",
    "pt_lowest_netload=np.where(pt_results['true']<0)[0]\n",
    "pt_highest_netload=np.where(pt_results['true']>90)[0]"
   ]
  },
  {
   "cell_type": "code",
   "execution_count": null,
   "id": "ec959593",
   "metadata": {},
   "outputs": [],
   "source": [
    "results_combined= pd.concat((pt_results, uk_results))"
   ]
  },
  {
   "cell_type": "markdown",
   "id": "0d388e45",
   "metadata": {},
   "source": [
    "### Metrics with peaks and valley PT'dataset"
   ]
  },
  {
   "cell_type": "code",
   "execution_count": null,
   "id": "73767a2d",
   "metadata": {
    "ExecuteTime": {
     "end_time": "2023-05-06T06:49:37.847200Z",
     "start_time": "2023-05-06T06:49:37.836686Z"
    }
   },
   "outputs": [],
   "source": [
    "figure_path='../figures/MLPPaper/'"
   ]
  },
  {
   "cell_type": "code",
   "execution_count": null,
   "id": "128b9486",
   "metadata": {},
   "outputs": [],
   "source": [
    "!mkdir figure_path"
   ]
  },
  {
   "cell_type": "code",
   "execution_count": null,
   "id": "5c7a6983",
   "metadata": {},
   "outputs": [],
   "source": [
    "def plot_metrics_for_extreame_scenarios(metric_name, dataset, results, isPeak,  index):\n",
    "    if isPeak:\n",
    "        if dataset == \"PT\":\n",
    "            highest_netload=np.where(results['true']>90)[0]\n",
    "        else:\n",
    "            highest_netload=np.where(results['true']>5)[0]\n",
    "        idx=highest_netload[index]\n",
    "    else:\n",
    "        lowest_netload=np.where(results['true']<0)[0]\n",
    "        idx=lowest_netload[index]\n",
    "        print\n",
    "    df=results.iloc[idx-48:idx+48]\n",
    "    #df[metric_name]= df[metric_name].values/df[metric_name].max()\n",
    "    fig, ax = plt.subplots(1, 1, figsize=(3.5, 2.5))\n",
    "    true=df['true'].values\n",
    "    pred=df['pred'].values\n",
    "    #ax.step(np.arange(len(true)), true.astype(int), c=\"C2\",  label='True')\n",
    "    #ax.step(np.arange(len(true)), pred.astype(int),  c='C0', label='Pred')\n",
    "    ax.plot(df['true'].values, \".\", mec=\"C2\", mfc=\"None\", label='True')\n",
    "    ax.plot(df['pred'].values,  '--',  c='C0', label='Pred')\n",
    "    ax.fill_between(np.arange(len(true)), true, pred,  color='k', alpha=0.1, label='Forecast Error')\n",
    "    ax.set_ylabel('Power (kW)')\n",
    "    ax.legend(loc='upper left', fontsize=10)\n",
    "\n",
    "    ax.set_xticks([i for i in range(0,108,12)])\n",
    "    \n",
    "\n",
    "    ax0 = ax.twinx()\n",
    "    ax0.step(np.arange(len(df)), df[metric_name].values, c='C1', label=metric_name.upper())\n",
    "    #ax0.plot(df[metric_name].values, c='C1', label=metric_name.upper())\n",
    "    ax0.set_ylabel(metric_name.upper())\n",
    "    ax0.legend(loc='upper right', fontsize=10)\n",
    "    fig.savefig(f'{figure_path}{dataset}_{metric_name}_with_valley_and_peaks.pdf', dpi=480)\n",
    "\n",
    "\n",
    "    fig=sns.jointplot(data=df, x=\"residual\", y=metric_name, kind=\"reg\", palette=\"tab10\", height=2.8, color='C6')\n",
    "    fig.set_axis_labels('residual', metric_name.upper(), fontsize=12)\n",
    "    fig.figure.tight_layout()\n",
    "    fig.savefig(f'{figure_path}{dataset}_{metric_name}_joint_with_valley_and_peaks.pdf', dpi=480)\n",
    "    "
   ]
  },
  {
   "cell_type": "code",
   "execution_count": null,
   "id": "f3be3fce",
   "metadata": {},
   "outputs": [],
   "source": [
    "dataset = \"PT\"\n",
    "for metric_name in ['mae','mape', 'smape', 'nrmse', 'nbias']:\n",
    "    plot_metrics_for_extreame_scenarios(metric_name, dataset, pt_results, False,  1)\n",
    "    #plt.ylim(-5, 110)\n",
    "    #plt.xlim(0, 100)"
   ]
  },
  {
   "cell_type": "code",
   "execution_count": null,
   "id": "8cbcca8f",
   "metadata": {},
   "outputs": [],
   "source": [
    "dataset = \"UK\"\n",
    "for metric_name in ['mae','mape', 'smape', 'nrmse', 'nbias']:\n",
    "    plot_metrics_for_extreame_scenarios(metric_name, dataset, uk_results, False,  50)\n",
    "    #plt.ylim(-5, 6)\n",
    "    #plt.xlim(0, 100)"
   ]
  },
  {
   "cell_type": "markdown",
   "id": "4380bdae",
   "metadata": {},
   "source": [
    "## Residual vs metric joint plots"
   ]
  },
  {
   "cell_type": "code",
   "execution_count": null,
   "id": "a6334a21",
   "metadata": {},
   "outputs": [],
   "source": [
    "for metric_name in ['mae','mape', 'smape', 'nrmse', 'nbias', \"residual\"]:\n",
    "    uk_results[metric_name]= uk_results[metric_name]/uk_results[metric_name].max()\n",
    "\n",
    "    pt_results[metric_name]= pt_results[metric_name]/pt_results[metric_name].max()\n",
    "\n",
    "results = pd.concat([uk_results, pt_results])"
   ]
  },
  {
   "cell_type": "code",
   "execution_count": null,
   "id": "df5a5d54",
   "metadata": {
    "ExecuteTime": {
     "end_time": "2023-05-06T06:43:04.410698Z",
     "start_time": "2023-05-06T06:43:02.946332Z"
    }
   },
   "outputs": [],
   "source": [
    "fig=sns.jointplot(data=results, x=\"residual\", y=\"mae\", kind=\"scatter\", palette=\"tab10\", height=3.8,  hue='Dataset', )\n",
    "fig.set_axis_labels('residual', 'MAE', fontsize=12)\n",
    "fig.figure.tight_layout\n",
    "\n",
    "fig.savefig(f'{figure_path}/residual_joint_mae.png', dpi=480)"
   ]
  },
  {
   "cell_type": "code",
   "execution_count": null,
   "id": "638e1984",
   "metadata": {
    "ExecuteTime": {
     "end_time": "2023-05-06T06:43:07.644719Z",
     "start_time": "2023-05-06T06:43:06.155320Z"
    }
   },
   "outputs": [],
   "source": [
    "fig=sns.jointplot(data=results, x=\"residual\", y=\"mape\",  palette=\"tab10\", height=3.8,hue='Dataset')\n",
    "fig.set_axis_labels('residual', 'MAPE', fontsize=12)\n",
    "fig.figure.tight_layout()\n",
    "fig.savefig(f'{figure_path}/residual_joint_mape.png', dpi=480)"
   ]
  },
  {
   "cell_type": "code",
   "execution_count": null,
   "id": "f4197d0d",
   "metadata": {
    "ExecuteTime": {
     "end_time": "2023-05-06T06:43:09.299756Z",
     "start_time": "2023-05-06T06:43:07.741809Z"
    }
   },
   "outputs": [],
   "source": [
    "fig=sns.jointplot(data=results, x=\"residual\", y=\"smape\", palette=\"tab10\", height=3.8, hue='Dataset')\n",
    "fig.set_axis_labels('residual', 'SMAPE', fontsize=12)\n",
    "fig.figure.tight_layout()\n",
    "fig.savefig(f'{figure_path}/residual_joint_smape.png', dpi=480)"
   ]
  },
  {
   "cell_type": "code",
   "execution_count": null,
   "id": "bc8c6a77",
   "metadata": {
    "ExecuteTime": {
     "end_time": "2023-05-06T06:43:10.986821Z",
     "start_time": "2023-05-06T06:43:09.397847Z"
    }
   },
   "outputs": [],
   "source": [
    "fig=sns.jointplot(data=results, x=\"residual\", y=\"nrmse\", palette=\"tab10\",height=3.8,  hue='Dataset')\n",
    "fig.set_axis_labels('residual', 'NRMSE', fontsize=12)\n",
    "fig.figure.tight_layout()\n",
    "fig.savefig(f'{figure_path}/residual_joint_nrmse.png', dpi=480)"
   ]
  },
  {
   "cell_type": "code",
   "execution_count": null,
   "id": "7777c08f",
   "metadata": {
    "ExecuteTime": {
     "end_time": "2023-05-06T06:43:12.715430Z",
     "start_time": "2023-05-06T06:43:11.081909Z"
    }
   },
   "outputs": [],
   "source": [
    "fig=sns.jointplot(data=results, x=\"residual\", y=\"nbias\", palette=\"tab10\", height=3.8,  color='C6')\n",
    "fig.set_axis_labels('residual', 'NBIAS', fontsize=12)\n",
    "fig.figure.tight_layout()\n",
    "fig.savefig(f'{figure_path}/residual_joint_nbias.png', dpi=480)"
   ]
  },
  {
   "cell_type": "markdown",
   "id": "122ea263",
   "metadata": {
    "code_folding": []
   },
   "source": [
    "## Metrics across different models"
   ]
  },
  {
   "cell_type": "code",
   "execution_count": null,
   "id": "935ed49d",
   "metadata": {
    "ExecuteTime": {
     "end_time": "2023-05-07T13:42:10.828029Z",
     "start_time": "2023-05-07T13:41:50.633136Z"
    }
   },
   "outputs": [],
   "source": [
    "pt_all_metrics={}\n",
    "pt_all_residual={}\n",
    "pt_all_data={}\n",
    "dataset='PT'\n",
    "experiment_name=\"PT-BestPractises\"\n",
    "pt_installed_capacity=pt_results['true'].max()\n",
    "for  window_type in ['expanding',  'train_test']:\n",
    "    \n",
    "    if window_type=='train_test':\n",
    "        cross_valid=['test-two', 'test-one']\n",
    "    else:\n",
    "        cross_valid=list(range(1, 11))\n",
    "    metrics, residual, data=get_results_per_experiment(models, dataset, experiment_name, window_type, cross_valid)\n",
    "    metrics['window']=window_type\n",
    "    pt_all_metrics[window_type]=metrics\n",
    "    pt_all_residual[window_type]=residual\n",
    "    pt_all_data[window_type]=data\n",
    "    \n",
    "pt_metrics=pd.concat(pt_all_metrics.values())\n",
    "pt_metrics['nrmse']=pt_metrics['rmse']/pt_installed_capacity"
   ]
  },
  {
   "cell_type": "code",
   "execution_count": null,
   "id": "fd46c571",
   "metadata": {},
   "outputs": [],
   "source": [
    "uk_all_metrics={}\n",
    "uk_all_residual={}\n",
    "uk_all_data={}\n",
    "uk_dataset='UK'\n",
    "experiment_name=\"UK-BestPractises\"\n",
    "uk_installed_capacity=uk_results['true'].max()\n",
    "for  window_type in ['expanding',  'train_test']:\n",
    "    \n",
    "    if window_type=='train_test':\n",
    "        cross_valid=['test-two', 'test-one']\n",
    "    else:\n",
    "        cross_valid=list(range(1, 11))\n",
    "    metrics, residual, data=get_results_per_experiment(models, uk_dataset, experiment_name, window_type, cross_valid)\n",
    "    metrics['window']=window_type\n",
    "    uk_all_metrics[window_type]=metrics\n",
    "    uk_all_residual[window_type]=residual\n",
    "    uk_all_data[window_type]=data\n",
    "    \n",
    "uk_metrics=pd.concat(uk_all_metrics.values())\n",
    "uk_metrics['nrmse']=uk_metrics['rmse']/uk_installed_capacity"
   ]
  },
  {
   "cell_type": "code",
   "execution_count": null,
   "id": "a1850045",
   "metadata": {
    "ExecuteTime": {
     "end_time": "2023-05-07T12:29:12.010625Z",
     "start_time": "2023-05-07T12:29:11.981054Z"
    }
   },
   "outputs": [],
   "source": [
    "met=['nrmse', 'mae', 'mape', 'smape', 'nbias']\n",
    "metrics = pd.concat([uk_metrics, pt_metrics])\n",
    "res=metrics[metrics['window']=='expanding'].groupby(['Dataset','Model'])[met].median().sort_values('mae').round(3)\n",
    "#res=metrics[metrics['window']=='expanding'].groupby('Model')[met].std().sort_values('nrmse').round(2)\n",
    "table = res.to_latex(index=True, formatters={\"name\": str.upper},\n",
    "                  float_format=\"{:.3f}\".format)\n",
    "# Print the LaTeX table\n",
    "print(res)"
   ]
  },
  {
   "cell_type": "markdown",
   "id": "bf543662",
   "metadata": {},
   "source": [
    "### Analyse how each metric rank different models across seasons"
   ]
  },
  {
   "cell_type": "code",
   "execution_count": null,
   "id": "7419e98c",
   "metadata": {
    "ExecuteTime": {
     "end_time": "2023-05-07T12:32:00.139654Z",
     "start_time": "2023-05-07T12:31:56.685163Z"
    }
   },
   "outputs": [],
   "source": [
    "az.style.use([\"science\", 'arviz-doc'])\n",
    "def per_metric_plot(data, metric='nrmse'):\n",
    "    fig=sns.catplot(data=data, \n",
    "                    x='Model', \n",
    "                    y=metric, \n",
    "                    estimator='median',\n",
    "                    hue='Season', \n",
    "                    hue_order=['Autumn', 'Winter', 'Spring', 'Summer'],\n",
    "                    sharex=False, margin_titles=True,\n",
    "                    height=3.28, aspect=1.0,\n",
    "                    #order=['CAT',  'LSTM',  'NHiTS', 'NBEATS', \"MLPFPQ\"],\n",
    "                    #palette={\"MLVS-PT\": \"C1\", \"SPS-UK\": \"C2\"},\n",
    "                    order=[ 'CAT', 'L-REG',  'MSTL', 'S-Naive'],\n",
    "                     kind='point',\n",
    "                    legend='auto', legend_out=False)\n",
    "    return fig"
   ]
  },
  {
   "cell_type": "code",
   "execution_count": null,
   "id": "752ea81f",
   "metadata": {},
   "outputs": [],
   "source": [
    "dataset='PT'\n",
    "for metric_name in ['mae','mape', 'smape', 'nrmse', 'nbias']:\n",
    "    fig= per_metric_plot(pt_metrics[pt_metrics['window']=='expanding'].reset_index(), metric=metric_name)\n",
    "    fig.set_axis_labels( 'Model', metric_name.upper(), fontsize=12)\n",
    "    fig.figure.tight_layout() \n",
    "    fig.set_titles(row_template=\"{row_name} Season\")\n",
    "    plt.legend(loc='lower right', fontsize=10)\n",
    "    plt.xticks(rotation=90);\n",
    "    if metric_name=='mae':\n",
    "        fig.set(ylim=(1, 15))\n",
    "    elif metric_name=='mape':\n",
    "        fig.set(ylim=(0, 0.4))\n",
    "    elif metric_name=='smape':\n",
    "        fig.set(ylim=(0, 0.4))\n",
    "    elif metric_name=='nrmse':\n",
    "        fig.set(ylim=(0, 0.2))\n",
    "    elif metric_name=='nbias':\n",
    "        plt.axhline(y=2, color='black', linestyle='--', alpha=0.21)\n",
    "        plt.axhline(y=-2, color='black', linestyle='--', alpha=0.21)\n",
    "        fig.set(ylim=(-7.5, 8.0))\n",
    "    fig.savefig(f'{figure_path}/{dataset}_Expanding_{metric_name}.pdf', dpi=480)"
   ]
  },
  {
   "cell_type": "code",
   "execution_count": null,
   "id": "98d2a04f",
   "metadata": {},
   "outputs": [],
   "source": [
    "dataset='UK'\n",
    "for metric_name in ['mae','mape', 'smape', 'nrmse', 'nbias']:\n",
    "    fig= per_metric_plot(uk_metrics[uk_metrics['window']=='expanding'].reset_index(), metric=metric_name)\n",
    "    fig.set_axis_labels( 'Model', metric_name.upper(), fontsize=12)\n",
    "    fig.figure.tight_layout() \n",
    "    fig.set_titles(row_template=\"{row_name} Season\")\n",
    "    plt.legend(loc='lower right', fontsize=10)\n",
    "    plt.xticks(rotation=90);\n",
    "    if metric_name=='mae':\n",
    "        fig.set(ylim=(0, 2))\n",
    "    elif metric_name=='mape':\n",
    "        fig.set(ylim=(0, 3))\n",
    "        #pass\n",
    "    elif metric_name=='smape':\n",
    "        fig.set(ylim=(0, 0.8))\n",
    "    elif metric_name=='nrmse':\n",
    "        fig.set(ylim=(0, 0.3))\n",
    "    elif metric_name=='nbias':\n",
    "        plt.axhline(y=2, color='black', linestyle='--', alpha=0.21)\n",
    "        plt.axhline(y=-2, color='black', linestyle='--', alpha=0.21)\n",
    "        fig.set(ylim=(-25, 15))\n",
    "    fig.savefig(f'{figure_path}/{dataset}_Expanding_{metric_name}.pdf', dpi=480)"
   ]
  },
  {
   "cell_type": "markdown",
   "id": "225413a9",
   "metadata": {},
   "source": [
    "## Statistical test"
   ]
  },
  {
   "cell_type": "code",
   "execution_count": null,
   "id": "602368ed",
   "metadata": {
    "ExecuteTime": {
     "end_time": "2023-05-07T05:58:10.995862Z",
     "start_time": "2023-05-07T05:58:10.976843Z"
    }
   },
   "outputs": [],
   "source": [
    "def get_net_load(data):\n",
    "    net_load=data.true.iloc[:, 0]\n",
    "    data=data[[  'MSTL','SeasonalNaive',  'RF',  'CATBOOST', 'LREGRESS']]\n",
    "    data=data.rename(columns={'SeasonalNaive':'S-NAIVE',  'LREGRESS':'L-REG', 'CATBOOST':'CAT',  'AutoARIMA':'ARIMA'})\n",
    "    data['NetLoad']=net_load.values\n",
    "    # Transforming indices to datetime format\n",
    "    data.index = pd.to_datetime(data.index)\n",
    "    data.head()\n",
    "    real_netload = data.loc[:, ['NetLoad']]\n",
    "    del data['NetLoad']\n",
    "    return data, real_netload"
   ]
  },
  {
   "cell_type": "code",
   "execution_count": null,
   "id": "99c9b133",
   "metadata": {
    "ExecuteTime": {
     "end_time": "2023-05-07T05:58:11.759989Z",
     "start_time": "2023-05-07T05:58:11.724588Z"
    }
   },
   "outputs": [],
   "source": [
    "data=uk_all_data['expanding']\n",
    "data, real_netload=get_net_load(data)"
   ]
  },
  {
   "cell_type": "code",
   "execution_count": null,
   "id": "74e1d322",
   "metadata": {},
   "outputs": [],
   "source": [
    "real_netload.shape"
   ]
  },
  {
   "cell_type": "code",
   "execution_count": null,
   "id": "c625bd8e",
   "metadata": {
    "ExecuteTime": {
     "end_time": "2023-05-07T06:06:26.830721Z",
     "start_time": "2023-05-07T06:06:22.632537Z"
    }
   },
   "outputs": [],
   "source": [
    "dataset='UK'\n",
    "fig, ax = plt.subplots(1,1, figsize=(3.5,3))\n",
    "p_value=run_statistical_test(ax, real_netload, data, norm=2, test='GW')\n",
    "#ax.set_title('')\n",
    "fig.savefig(f'{figure_path}/{dataset}_GW_test_model.pdf', dpi=480)"
   ]
  },
  {
   "cell_type": "code",
   "execution_count": null,
   "id": "c2920b80",
   "metadata": {
    "ExecuteTime": {
     "end_time": "2023-05-07T06:05:46.578442Z",
     "start_time": "2023-05-07T06:05:44.285157Z"
    }
   },
   "outputs": [],
   "source": [
    "fig, ax = plt.subplots(1,1, figsize=(3.5,3))\n",
    "p_values=p_value=run_statistical_test(ax, real_netload, data, norm=2, test='DM')\n",
    "#ax.set_title('')\n",
    "fig.savefig(f'{figure_path}/{dataset}_DM_test_model.pdf', dpi=480)"
   ]
  },
  {
   "cell_type": "markdown",
   "id": "7788f0f8",
   "metadata": {},
   "source": [
    "Note: P-value close to zero represent cases where the forecast in the x-axis is significant more accurate than the forecast in the y-axis"
   ]
  },
  {
   "cell_type": "code",
   "execution_count": null,
   "id": "0c3d8ffe",
   "metadata": {
    "ExecuteTime": {
     "end_time": "2023-05-07T07:58:03.807153Z",
     "start_time": "2023-05-07T07:58:03.780605Z"
    }
   },
   "outputs": [],
   "source": [
    "data=all_data['train_test']\n",
    "data, real_netload=get_net_load(data)"
   ]
  },
  {
   "cell_type": "code",
   "execution_count": null,
   "id": "2f65c563",
   "metadata": {
    "ExecuteTime": {
     "end_time": "2023-05-07T07:58:11.259808Z",
     "start_time": "2023-05-07T07:58:08.981912Z"
    }
   },
   "outputs": [],
   "source": [
    "fig, ax = plt.subplots(1,1, figsize=(3.5,3))\n",
    "p_values=p_value=run_statistical_test(ax, real_netload, data, norm=1, test='DM')\n",
    "#fig.savefig(f'{figure_path}/DM_test_model_test_2.pdf', dpi=480)"
   ]
  },
  {
   "cell_type": "markdown",
   "id": "7362dfc6",
   "metadata": {},
   "source": [
    "## Metrics with different data spiliting"
   ]
  },
  {
   "cell_type": "code",
   "execution_count": null,
   "id": "2c0ac6a7",
   "metadata": {},
   "outputs": [],
   "source": [
    "def per_dtype_plot(data, metric='nrmse'):\n",
    "    fig=sns.catplot(data=data, \n",
    "                    x='Model', \n",
    "                    y=metric, \n",
    "                    hue='D-type', \n",
    "                    estimator='median',\n",
    "                    #hue_order=['Autumn', 'Winter', 'Spring', 'Summer'],\n",
    "                    sharex=False, margin_titles=True,\n",
    "                    height=3.5, aspect=1.0,\n",
    "                    #order=['CAT',  'LSTM',  'NHiTS', 'NBEATS', \"MLPFPQ\"],\n",
    "                    #palette={\"MLVS-PT\": \"C1\", \"SPS-UK\": \"C2\"},\n",
    "                    order=[ 'CAT', 'RF',  'MSTL', 'S-Naive'],\n",
    "                     kind='point',\n",
    "                   legend='auto', legend_out=False)\n",
    "    return fig"
   ]
  },
  {
   "cell_type": "code",
   "execution_count": null,
   "id": "15753b9a",
   "metadata": {},
   "outputs": [],
   "source": [
    "test_one=metrics[metrics['Fold']=='test-one']\n",
    "#test_one=test_one[test_one.Season=='Winter']\n",
    "test_one['D-type']='Train-test-1'\n",
    "test_two=metrics[metrics['Fold']=='test-two']\n",
    "#test_two=test_two[test_two.Season=='Summer']\n",
    "test_two['D-type']='Train-test-2'\n",
    "window=metrics[metrics['window']=='expanding']\n",
    "window['D-type']='Expanding'\n",
    "data_splitting=pd.concat([test_one, test_two, window])"
   ]
  },
  {
   "cell_type": "code",
   "execution_count": null,
   "id": "427a4081",
   "metadata": {},
   "outputs": [],
   "source": [
    "data_splitting.Dataset.unique()"
   ]
  },
  {
   "cell_type": "code",
   "execution_count": null,
   "id": "282761cc",
   "metadata": {},
   "outputs": [],
   "source": [
    "uk_data_splitting=data_spiliting[data_spiliting.Dataset=='SPS-UK']\n",
    "pt_data_splitting=data_spiliting[data_spiliting.Dataset=='MLVS-PT']"
   ]
  },
  {
   "cell_type": "code",
   "execution_count": null,
   "id": "099c603a",
   "metadata": {},
   "outputs": [],
   "source": [
    "def plot_dtype(data_splitting, dataset, metric_name):\n",
    "    data_splitting=data_splitting[data_splitting.Model.isin(['CAT', 'MSTL', 'RF', 'S-Naive'])]\n",
    "    fig= per_dtype_plot(data_splitting.reset_index(), metric=metric_name)\n",
    "    fig.set_axis_labels( 'Model', metric_name.upper(), fontsize=12)\n",
    "    fig.figure.tight_layout() \n",
    "    fig.set_titles(row_template=\"{row_name} Season\")\n",
    "    plt.legend(loc='lower right', fontsize=10)\n",
    "    plt.xticks(rotation=90);\n",
    "    #fig.set(ylim=(0, 10))\n",
    "    fig.savefig(f'{figure_path}/{dataset}_D-type_MAE.pdf', dpi=480)"
   ]
  },
  {
   "cell_type": "code",
   "execution_count": null,
   "id": "565b2b4e",
   "metadata": {},
   "outputs": [],
   "source": [
    "pt_metrics.groupby(['Model'])[met].max()"
   ]
  },
  {
   "cell_type": "code",
   "execution_count": null,
   "id": "50f22585",
   "metadata": {},
   "outputs": [],
   "source": [
    "for metric_name in ['mae','mape', 'smape', 'nrmse', 'nbias']:\n",
    "    plot_dtype(pt_data_splitting, 'PT', metric_name)"
   ]
  },
  {
   "cell_type": "code",
   "execution_count": null,
   "id": "5f3eebc4",
   "metadata": {},
   "outputs": [],
   "source": [
    "for metric_name in ['mae','mape', 'smape', 'nrmse', 'nbias']:\n",
    "    plot_dtype(uk_data_spiliting, 'UK', metric_name)"
   ]
  },
  {
   "cell_type": "code",
   "execution_count": null,
   "id": "71ccfed4",
   "metadata": {},
   "outputs": [],
   "source": [
    "res=data_spiliting.groupby(['Dataset','D-type','Model'])[met].median().round(3)\n",
    "#res=metrics[metrics['window']=='expanding'].groupby('Model')[met].std().sort_values('nrmse').round(2)\n",
    "table = res.to_latex(index=True, formatters={\"name\": str.upper},\n",
    "                  float_format=\"{:.3f}\".format)\n",
    "# Print the LaTeX table\n",
    "#print(table)\n",
    "res"
   ]
  },
  {
   "cell_type": "code",
   "execution_count": null,
   "id": "bd215e1f",
   "metadata": {},
   "outputs": [],
   "source": [
    "for metric_name in ['mae','mape', 'smape', 'nrmse', 'nbias']:\n",
    "    plot_dtype(uk_data_spiliting, 'UK', metric_name)"
   ]
  },
  {
   "cell_type": "code",
   "execution_count": null,
   "id": "e0113168",
   "metadata": {},
   "outputs": [],
   "source": [
    "fig= per_dtype_plot(data_spiliting.reset_index(), metric='mape')\n",
    "fig.set_axis_labels( 'Model', 'MAPE', fontsize=12)\n",
    "fig.figure.tight_layout() \n",
    "fig.set_titles(row_template=\"{row_name} Season\")\n",
    "plt.legend(loc='upper right', fontsize=10)\n",
    "plt.xticks(rotation=90);\n",
    "fig.set(ylim=(0, 0.6))"
   ]
  },
  {
   "cell_type": "code",
   "execution_count": null,
   "id": "d892e034",
   "metadata": {},
   "outputs": [],
   "source": [
    "fig= per_dtype_plot(data_spiliting.reset_index(), metric='smape')\n",
    "fig.set_axis_labels( 'Model', 'SMAPE', fontsize=12)\n",
    "fig.figure.tight_layout() \n",
    "fig.set_titles(row_template=\"{row_name} Season\")\n",
    "plt.legend(loc='upper right', fontsize=10)\n",
    "plt.xticks(rotation=90);\n",
    "fig.set(ylim=(0, 0.6))"
   ]
  },
  {
   "cell_type": "code",
   "execution_count": null,
   "id": "e9de91e2",
   "metadata": {},
   "outputs": [],
   "source": [
    "fig= per_dtype_plot(data_spiliting.reset_index(), metric='nbias')\n",
    "fig.set_axis_labels( 'Model', 'NBIAS', fontsize=12)\n",
    "fig.figure.tight_layout() \n",
    "fig.set_titles(row_template=\"{row_name} Season\")\n",
    "plt.legend(loc='upper left', fontsize=10)\n",
    "plt.xticks(rotation=90);\n",
    "fig.set(ylim=(-10, 10))"
   ]
  },
  {
   "cell_type": "code",
   "execution_count": null,
   "id": "e5722549",
   "metadata": {},
   "outputs": [],
   "source": [
    "data_spiliting.groupby(['D-type', 'Model']).median().sort_values('mae').round(2)[met]"
   ]
  },
  {
   "cell_type": "code",
   "execution_count": null,
   "id": "819e0106",
   "metadata": {
    "ExecuteTime": {
     "end_time": "2023-05-07T06:20:25.112120Z",
     "start_time": "2023-05-07T06:20:25.097601Z"
    }
   },
   "outputs": [],
   "source": [
    "data=metrics[metrics['window']=='expanding']\n",
    "data=data[data['Model'].isin([ 'S-Naive','L-REG', 'MSTL', 'RF',  'NHiTS', 'RNN',  'CAT', 'NBEATS'])]"
   ]
  },
  {
   "cell_type": "code",
   "execution_count": null,
   "id": "cdf50862",
   "metadata": {},
   "outputs": [],
   "source": [
    "altair_plot_avg(short_long_metrics, metric='mae', column='Context', dataset='PT',  across='Horizon', limit=[0,10])"
   ]
  },
  {
   "cell_type": "markdown",
   "id": "f858db05",
   "metadata": {},
   "source": [
    "## Model-design"
   ]
  },
  {
   "cell_type": "code",
   "execution_count": null,
   "id": "311ba48f",
   "metadata": {},
   "outputs": [],
   "source": [
    "\n",
    "experiment_type='mlpf-model-design'\n",
    "exp_name=\"PT-Benchmark\"\n",
    "dataset='pt_dataset'\n",
    "model_design_metrics=[]\n",
    "data_design=[]\n",
    "for emb_type in [ \"None\", 'PosEmb', 'RotaryEmb']: #'PosEmb', 'RotaryEmb']:\n",
    "    for comb_type in ['attn-comb', 'weighted-comb', 'addition-comb']:\n",
    "        experiment_name=f'{exp_name}_{dataset}_{experiment_type}_{emb_type}_{comb_type}' \n",
    "        metrics, res, data=get_results_per_experiment(['MLPForecast'], \n",
    "                                                      dataset, experiment_name, \n",
    "                                                      None, cross_valid=list(range(1,11)))\n",
    "        metrics['Comb-Type']=comb_type\n",
    "        metrics['Emb-Type']=emb_type\n",
    "        data['Comb-Type']=comb_type\n",
    "        data['Emb-Type']=emb_type                                                                                  \n",
    "        data_design.append(data)\n",
    "        model_design_metrics.append(metrics)\n",
    "        \n",
    "model_design_metrics_pt = pd.concat(model_design_metrics)\n",
    "model_design_metrics_pt=model_design_metrics_pt.replace('addition-comb', 'ADD').replace('attn-comb', 'ATTN').replace('weighted-comb', 'WTA')\n",
    "model_design_metrics_pt=model_design_metrics_pt.replace('PosEmb', 'PoE').replace('RotaryEmb', 'RoPE').replace('CombinedEmb', 'Comb')\n",
    "model_design_metrics_pt['Dataset']='MLVS-PT'\n",
    "data_design_pt = pd.concat(data_design)                                                      \n",
    "clear_output()"
   ]
  },
  {
   "cell_type": "code",
   "execution_count": null,
   "id": "b9829d47",
   "metadata": {},
   "outputs": [],
   "source": [
    "model_design_metrics_pt.groupby(['Comb-Type', 'Emb-Type'])[['mae', 'nrmse']].mean().round(2)"
   ]
  },
  {
   "cell_type": "code",
   "execution_count": null,
   "id": "36b487a3",
   "metadata": {},
   "outputs": [],
   "source": [
    "exp_name=\"PT-Benchmark\"\n",
    "dataset='uk_dataset'\n",
    "model_design_metrics_uk=[]\n",
    "data_design_uk=[]\n",
    "for emb_type in [ \"None\", 'PosEmb', 'RotaryEmb' ]: #'PosEmb', 'RotaryEmb', 'CombinedEmb']:\n",
    "    for comb_type in ['attn-comb', 'weighted-comb', 'addition-comb']:\n",
    "        experiment_name=f'{exp_name}_{dataset}_{experiment_type}_{emb_type}_{comb_type}' \n",
    "        metrics, res, data=get_results_per_experiment(['MLPForecast'], \n",
    "                                                      dataset, experiment_name, \n",
    "                                                      None, cross_valid=list(range(1,11)))\n",
    "        metrics['Comb-Type']=comb_type\n",
    "        metrics['Emb-Type']=emb_type\n",
    "        data['Comb-Type']=comb_type\n",
    "        data['Emb-Type']=emb_type                                                                                  \n",
    "        data_design_uk.append(data)\n",
    "        model_design_metrics_uk.append(metrics)\n",
    "        \n",
    "model_design_metrics_uk = pd.concat(model_design_metrics_uk)\n",
    "model_design_metrics_uk=model_design_metrics_uk.replace('addition-comb', 'ADD').replace('attn-comb', 'ATTN').replace('weighted-comb', 'WTA')\n",
    "model_design_metrics_uk=model_design_metrics_uk.replace('PosEmb', 'PoE').replace('RotaryEmb', 'RoPE').replace('CombinedEmb', 'Comb')\n",
    "model_design_metrics_uk['Dataset']='SPS-UK'\n",
    "data_design_uk = pd.concat(data_design_uk)                                                      \n",
    "clear_output()"
   ]
  },
  {
   "cell_type": "code",
   "execution_count": null,
   "id": "63196d84",
   "metadata": {},
   "outputs": [],
   "source": [
    "model_design_metrics_uk.groupby(['Comb-Type', 'Emb-Type'])[['mae', 'nrmse']].mean().round(2)"
   ]
  },
  {
   "cell_type": "code",
   "execution_count": null,
   "id": "6a884454",
   "metadata": {},
   "outputs": [],
   "source": [
    "def model_dsign_statistical_test_comb(ax, data, emb_type, test_type='DM', norm=1):\n",
    "    data = data[data['Emb-Type'].isin([emb_type])]\n",
    "    df = data.reset_index().groupby(['Date', 'Comb-Type'], as_index=False).mean()\n",
    "    forecast = df.pivot(index='Date', columns='Comb-Type', values='MLPForecast')\n",
    "    \n",
    "    forecast=forecast.rename(columns={'addition-comb':'ADD', 'attn-comb':'ATTN', 'weighted-comb':'WTA'})\n",
    "    true = df.pivot(index='Date', columns='Comb-Type', values='true')[['attn-comb']]\n",
    "    #forecast=forecast.set_index('Date')\n",
    "    #true=true.set_index('Date')\n",
    "    true=true.rename(columns={'weighted-comb':'true'})\n",
    "    p_value=run_statistical_test(ax,true, forecast, norm=norm, test=test_type)\n",
    "    return p_value\n",
    "\n",
    "\n",
    "def model_dsign_statistical_test_emb(ax, data, comb_type, test_type='DM', norm=1):\n",
    "    data = data[data['Comb-Type'].isin([comb_type])]\n",
    "    df = data.reset_index().groupby(['Date', 'Emb-Type'], as_index=False).mean()\n",
    "    forecast = df.pivot(index='Date', columns='Emb-Type', values='MLPForecast')[[\"None\", 'PosEmb', 'RotaryEmb']]\n",
    "    forecast=forecast.rename(columns={'PosEmb':'PoE', 'RotaryEmb':'RoPE', 'CombinedEmb':'Comb'})\n",
    "    true = df.pivot(index='Date', columns='Emb-Type', values='true')[['None']]\n",
    "    #forecast=forecast.set_index('Date')\n",
    "    #true=true.set_index('Date')\n",
    "    true=true.rename(columns={'None':'true'})\n",
    "    p_value=run_statistical_test(ax,true, forecast, norm=norm, test=test_type)\n",
    "    return p_value\n",
    "    \n",
    "    \n"
   ]
  },
  {
   "cell_type": "code",
   "execution_count": null,
   "id": "97e8571a",
   "metadata": {},
   "outputs": [],
   "source": [
    "for emb_type in [\"None\", 'PosEmb', 'RotaryEmb']:\n",
    "    print(emb_type)\n",
    "    fig, ax = plt.subplots(1,1, figsize=(3.5,3))\n",
    "    pvalue=model_dsign_statistical_test_comb(ax, data_design_pt, emb_type=emb_type, test_type='DM', norm=1)\n",
    "    print(pvalue)\n",
    "    fig.savefig(f'{figure_path}/PT_{emb_type}_test_model.pdf', dpi=480)"
   ]
  },
  {
   "cell_type": "code",
   "execution_count": null,
   "id": "04480891",
   "metadata": {},
   "outputs": [],
   "source": [
    "for emb_type in [\"None\", 'PosEmb', 'RotaryEmb']:\n",
    "    print(emb_type)\n",
    "    fig, ax = plt.subplots(1,1, figsize=(3.5,3))\n",
    "    pvalue=model_dsign_statistical_test_comb(ax, data_design_uk, emb_type=emb_type, test_type='DM', norm=1)\n",
    "    print(pvalue)\n",
    "    fig.savefig(f'{figure_path}/UK_{emb_type}_DM_test_model.pdf', dpi=480)"
   ]
  },
  {
   "cell_type": "code",
   "execution_count": null,
   "id": "78f7fcd3",
   "metadata": {},
   "outputs": [],
   "source": [
    "for comb_type in [ 'addition-comb']:\n",
    "    print(comb_type)\n",
    "    fig, ax = plt.subplots(1,1, figsize=(3.5,3))\n",
    "    pvalue=model_dsign_statistical_test_emb(ax, data_design_pt, comb_type=comb_type, test_type='DM', norm=1)\n",
    "    print(pvalue)\n",
    "    fig.savefig(f'{figure_path}/PT_{comb_type}_DM_test_model.pdf', dpi=480)"
   ]
  },
  {
   "cell_type": "code",
   "execution_count": null,
   "id": "6b9b293b",
   "metadata": {},
   "outputs": [],
   "source": [
    "for comb_type in [ 'addition-comb', 'attn-comb', 'weighted-comb',]:\n",
    "    print(comb_type)\n",
    "    fig, ax = plt.subplots(1,1, figsize=(3.5,3))\n",
    "    pvalue=model_dsign_statistical_test_emb(ax, data_design_uk, comb_type=comb_type, test_type='DM', norm=1)\n",
    "    print(pvalue)\n",
    "    fig.savefig(f'{figure_path}/UK_{comb_type}_DM_test_model.pdf', dpi=480)\n",
    "   "
   ]
  },
  {
   "cell_type": "code",
   "execution_count": null,
   "id": "4a5a370c",
   "metadata": {},
   "outputs": [],
   "source": [
    "model_design_metrics=pd.concat([model_design_metrics_pt, model_design_metrics_uk])"
   ]
  },
  {
   "cell_type": "code",
   "execution_count": null,
   "id": "d3c94721",
   "metadata": {},
   "outputs": [],
   "source": [
    "def altair_plot(data, metric='mae', column='Comb-Type', dataset='PT',  across='Emb-Type', domain=[0., 6]):\n",
    "    #data=data[data['Emb-Type']=='None']\n",
    "    #data=data.replace('addition-comb', 'ADD').replace('attn-comb', 'ATTN').replace('weighted-comb', 'WTA')\n",
    "    line = alt.Chart(data).mark_line(point={\n",
    "      \"filled\": False,\n",
    "      \"fill\": \"white\"\n",
    "    }).encode(\n",
    "    y = alt.Y(f'mean({metric})', scale=alt.Scale(domain=domain), title=metric.upper()),\n",
    "    x = alt.X(f'{column}:N', axis=alt.Axis( title='')),\n",
    "    color=alt.Color('Season', scale=alt.Scale(scheme='tableau20')),\n",
    "    column=alt.Column(f'{across}:N', title=''),\n",
    "    \n",
    "    ).configure_axis(\n",
    "    grid=False,\n",
    "    labelFontSize=12,\n",
    "    titleFontSize=12\n",
    "        ).configure_view(\n",
    "            strokeOpacity=0\n",
    "        ).properties(width=120,\n",
    "                        height=150\n",
    "        )\n",
    "    line.save(f'{figure_path}/{dataset}_{column}_{metric}.pdf', ppi=480)\n",
    "    return line\n",
    "\n",
    "\n",
    "def altair_plot_avg(data, metric='mae', column='Comb-Type', dataset='PT',  across='Emb-Type', domain=[0., 6]):\n",
    "    #data=data[data['Emb-Type']=='None']\n",
    "    #data=data.replace('addition-comb', 'ADD').replace('attn-comb', 'ATTN').replace('weighted-comb', 'WTA')\n",
    "    line = alt.Chart(data).mark_line(point={\n",
    "      \"filled\": False,\n",
    "      \"fill\": \"white\"\n",
    "    }).encode(\n",
    "    y = alt.Y(f'mean({metric})', scale=alt.Scale(domain=domain), title=metric.upper()),\n",
    "    x = alt.X(f'{column}:N', axis=alt.Axis( title='')),\n",
    "    color=alt.Color(f'{across}:N', scale=alt.Scale(scheme='tableau20')),\n",
    "    #column=alt.Column(f'{across}:N', title=''),\n",
    "    \n",
    "    ).configure_axis(\n",
    "    grid=False,\n",
    "    labelFontSize=12,\n",
    "    titleFontSize=12\n",
    "        ).configure_view(\n",
    "            strokeOpacity=0\n",
    "        ).properties(width=120,\n",
    "                        height=150\n",
    "        )\n",
    "    line.save(f'{figure_path}/{dataset}_{column}_{metric}_overall.pdf', ppi=480)\n",
    "    return line\n",
    "\n",
    "\n"
   ]
  },
  {
   "cell_type": "code",
   "execution_count": null,
   "id": "f997b255",
   "metadata": {},
   "outputs": [],
   "source": [
    "alt.themes.enable(\"opaque\")\n",
    "alt.data_transformers.disable_max_rows()\n",
    "altair_plot(model_design_metrics_pt, metric='mae', column='Comb-Type')"
   ]
  },
  {
   "cell_type": "code",
   "execution_count": null,
   "id": "7efeaf12",
   "metadata": {},
   "outputs": [],
   "source": [
    "altair_plot(model_design_metrics_uk, dataset='UK',  metric='mae', column='Comb-Type', domain=[0,0.6])"
   ]
  },
  {
   "cell_type": "code",
   "execution_count": null,
   "id": "0abedfd0",
   "metadata": {},
   "outputs": [],
   "source": [
    "altair_plot_avg(model_design_metrics_pt, metric='mae', column='Comb-Type')"
   ]
  },
  {
   "cell_type": "code",
   "execution_count": null,
   "id": "e9023792",
   "metadata": {},
   "outputs": [],
   "source": [
    "altair_plot_avg(model_design_metrics_uk, dataset='UK',  metric='mae', column='Comb-Type', domain=[0,0.6])"
   ]
  },
  {
   "cell_type": "code",
   "execution_count": null,
   "id": "5011114d",
   "metadata": {},
   "outputs": [],
   "source": [
    "altair_plot(model_design_metrics_pt, metric='mae', column='Emb-Type', across='Comb-Type')"
   ]
  },
  {
   "cell_type": "code",
   "execution_count": null,
   "id": "d3aa5df6",
   "metadata": {},
   "outputs": [],
   "source": [
    "altair_plot(model_design_metrics_uk, dataset='UK', metric='mae', column='Emb-Type', across='Comb-Type', domain=[0,0.6])"
   ]
  },
  {
   "cell_type": "code",
   "execution_count": null,
   "id": "fe6ecd9f",
   "metadata": {},
   "outputs": [],
   "source": [
    "altair_plot_avg(model_design_metrics_pt, metric='mae', column='Emb-Type', across='Comb-Type', domain=[3, 4])"
   ]
  },
  {
   "cell_type": "code",
   "execution_count": null,
   "id": "961060e9",
   "metadata": {},
   "outputs": [],
   "source": [
    "altair_plot_avg(model_design_metrics_uk, dataset='UK', metric='mae', column='Emb-Type', across='Comb-Type', domain=[0,0.6])"
   ]
  },
  {
   "cell_type": "code",
   "execution_count": null,
   "id": "10c9b2f5",
   "metadata": {},
   "outputs": [],
   "source": [
    "metrics_pt.columns"
   ]
  },
  {
   "cell_type": "markdown",
   "id": "6d64c012",
   "metadata": {
    "ExecuteTime": {
     "end_time": "2023-05-06T16:24:15.912321Z",
     "start_time": "2023-05-06T16:24:15.900805Z"
    }
   },
   "source": [
    "## Computation Metrics"
   ]
  },
  {
   "cell_type": "markdown",
   "id": "d0e56494",
   "metadata": {},
   "source": [
    "## Benchmark"
   ]
  },
  {
   "cell_type": "code",
   "execution_count": null,
   "id": "a3f33e11",
   "metadata": {},
   "outputs": [],
   "source": [
    "forecast_len=6 \n",
    "incremental_len = 2\n",
    "min_train_len=12\n",
    "seed=777\n",
    "max_epochs=100    \n",
    "n_splits=10\n",
    "window_type='expanding'        \n",
    "dataset=\"PT\",\n",
    "experiment_name=\"PT-Benchmark\""
   ]
  },
  {
   "cell_type": "code",
   "execution_count": null,
   "id": "ad571e5d",
   "metadata": {},
   "outputs": [],
   "source": [
    "models=['MLPForecast', 'NBEATS', 'NHiTS', 'LSTM', 'MSTL' ,'CATBOOST', 'SeasonalNaive', 'RF', 'LREGRESS', 'PatchTST', 'TimesNet', 'FEDformer']"
   ]
  },
  {
   "cell_type": "code",
   "execution_count": null,
   "id": "e7d4203a",
   "metadata": {},
   "outputs": [],
   "source": [
    "cross_valid=list(range(1, 11))\n",
    "metrics_pt, residual_pt, data_pt=get_results_per_experiment(models, dataset, experiment_name, window_type, cross_valid)\n",
    "clear_output()"
   ]
  },
  {
   "cell_type": "code",
   "execution_count": null,
   "id": "caba8d2b",
   "metadata": {},
   "outputs": [],
   "source": [
    "dataset=\"UK\",\n",
    "experiment_name=\"UK-Benchmark\"\n",
    "metrics_uk, residual_uk, data_uk=get_results_per_experiment(models, dataset, experiment_name, window_type, cross_valid)\n",
    "clear_output()"
   ]
  },
  {
   "cell_type": "code",
   "execution_count": null,
   "id": "4ccd436a",
   "metadata": {},
   "outputs": [],
   "source": [
    "metrics_pt['Dataset']='MLVS-PT'\n",
    "metrics_uk['Dataset']='SPS-UK'"
   ]
  },
  {
   "cell_type": "code",
   "execution_count": null,
   "id": "d71d53fd",
   "metadata": {},
   "outputs": [],
   "source": [
    "metrics=pd.concat([metrics_pt, metrics_uk])"
   ]
  },
  {
   "cell_type": "code",
   "execution_count": null,
   "id": "102957cd",
   "metadata": {},
   "outputs": [],
   "source": [
    "metrics_uk['Test-time']=(metrics_uk['Test-time']/60)\n",
    "metrics_pt['Test-time']=(metrics_pt['Test-time']/60)\n",
    "metrics['Test-time']=metrics['Test-time']/60\n"
   ]
  },
  {
   "cell_type": "code",
   "execution_count": null,
   "id": "9d289cb2",
   "metadata": {},
   "outputs": [],
   "source": [
    "metrics_uk['Train-time']=(metrics_uk['Train-time'])/60\n",
    "metrics_pt['Train-time']=(metrics_pt['Train-time'])/60"
   ]
  },
  {
   "cell_type": "markdown",
   "id": "c9b5a6a8",
   "metadata": {},
   "source": [
    "## Inference speed"
   ]
  },
  {
   "cell_type": "code",
   "execution_count": null,
   "id": "376e9df0",
   "metadata": {},
   "outputs": [],
   "source": [
    "alt.themes.enable(\"opaque\")\n",
    "alt.data_transformers.disable_max_rows()\n",
    "chart=alt.Chart(metrics_uk).mark_bar().encode(\n",
    "    x=alt.X('Model', title=None, sort=[ 'S-Naive', 'MSTL',  'MLPF',  'L-REG',  'RF', 'CAT', 'PatchTST', 'NHiTS', 'NBEATS', 'FEDformer' ,  'TimesNet',  'LSTM']),\n",
    "    y=alt.Y('mean(Test-time):Q', scale=alt.Scale(domain=[0.001, 0.8]), title=\"Inference time (minutes)\"),\n",
    "    color=alt.Color('Model', scale=alt.Scale(scheme='tableau20'))\n",
    "\n",
    ").configure_axis(\n",
    "    grid=False,\n",
    "    labelFontSize=12,\n",
    "    titleFontSize=12\n",
    ").configure_view(\n",
    "    strokeOpacity=0\n",
    ").resolve_scale(x='independent'\n",
    ").properties(width=150,\n",
    "                height=180\n",
    ")\n",
    "chart.save(f'{figure_path}/UK_inference_speed.pdf', ppi=480)\n",
    "chart"
   ]
  },
  {
   "cell_type": "code",
   "execution_count": null,
   "id": "07f507f3",
   "metadata": {},
   "outputs": [],
   "source": [
    "chart=alt.Chart(metrics_pt).mark_bar().encode(\n",
    "    x=alt.X('Model', title=None, sort=[ 'S-Naive', 'MSTL',  'MLPF',  'L-REG',  'RF', 'CAT', 'NBEATS', 'NHiTS', 'LSTM', 'PatchTST',  'FEDformer' ,  'TimesNet']),\n",
    "    y=alt.Y('mean(Test-time):Q', scale=alt.Scale(domain=[0.0, 0.8]), title=\"Inference time (minutes)\"),\n",
    "    color=alt.Color('Model', scale=alt.Scale(scheme='tableau20'))\n",
    "\n",
    ").configure_axis(\n",
    "    grid=False,\n",
    "    labelFontSize=12,\n",
    "    titleFontSize=12\n",
    ").configure_view(\n",
    "    strokeOpacity=0\n",
    ").resolve_scale(x='independent'\n",
    ").properties(width=150,\n",
    "                height=180\n",
    ")\n",
    "chart.save(f'{figure_path}/PT_inference_speed.pdf', ppi=480)\n",
    "chart"
   ]
  },
  {
   "cell_type": "code",
   "execution_count": null,
   "id": "4d58d078",
   "metadata": {},
   "outputs": [],
   "source": [
    "df=metrics_pt.groupby('Model')[['Test-time', 'Train-time']].mean()"
   ]
  },
  {
   "cell_type": "code",
   "execution_count": null,
   "id": "2dec2769",
   "metadata": {},
   "outputs": [],
   "source": [
    "df['Test-time']=df['Test-time']*60"
   ]
  },
  {
   "cell_type": "code",
   "execution_count": null,
   "id": "e2c2b684",
   "metadata": {},
   "outputs": [],
   "source": [
    "df.reset_index().sort_values('Test-time')"
   ]
  },
  {
   "cell_type": "markdown",
   "id": "d02de81d",
   "metadata": {},
   "source": [
    "## Train time"
   ]
  },
  {
   "cell_type": "code",
   "execution_count": null,
   "id": "882b80c0",
   "metadata": {},
   "outputs": [],
   "source": [
    "chart=alt.Chart(metrics_uk).mark_bar().encode(\n",
    "    x=alt.X('Model', title=None, sort=[ 'L-REG','S-Naive', 'MSTL', 'NHiTS', 'NBEATS', 'MLPF',  'RF', 'CAT', 'LSTM', 'TimesNet',   'PatchTST',  'FEDformer' ]),\n",
    "    y=alt.Y('mean(Train-time):Q', scale=alt.Scale(type='log'), title=\"Train time (minutes)\"),\n",
    "    color=alt.Color('Model', scale=alt.Scale(scheme='tableau20'))\n",
    "\n",
    ").configure_axis(\n",
    "    grid=False,\n",
    "    labelFontSize=12,\n",
    "    titleFontSize=12\n",
    ").configure_view(\n",
    "    strokeOpacity=0\n",
    ").resolve_scale(x='independent'\n",
    ").properties(width=150,\n",
    "                height=180\n",
    ")\n",
    "chart.save(f'{figure_path}/UK_train_speed.pdf', ppi=480)\n",
    "chart"
   ]
  },
  {
   "cell_type": "code",
   "execution_count": null,
   "id": "45740b4f",
   "metadata": {
    "ExecuteTime": {
     "end_time": "2023-05-07T05:50:37.116580Z",
     "start_time": "2023-05-07T05:50:36.411353Z"
    }
   },
   "outputs": [],
   "source": [
    "chart=alt.Chart(metrics_uk).mark_line(point={\n",
    "      \"filled\": False,\n",
    "      \"fill\": \"white\"\n",
    "    }).encode(\n",
    "    x=alt.X('Fold', title=None),\n",
    "    y=alt.Y('mean(Train-time):Q', scale=alt.Scale(domain=[0,10]), title=\"Train time (minutes)\").scale(type=\"log\"),\n",
    "    color=alt.Color('Model', scale=alt.Scale(scheme='tableau20'))\n",
    "   \n",
    ").configure_axis(\n",
    "    grid=False,\n",
    "    labelFontSize=12,\n",
    "    titleFontSize=12\n",
    ").configure_view(\n",
    "    strokeOpacity=0\n",
    ").properties(width=150,\n",
    "                height=180\n",
    ")\n",
    "chart.save(f'{figure_path}/UK_train_speed_folds_speed.pdf', ppi=480)\n",
    "chart"
   ]
  },
  {
   "cell_type": "code",
   "execution_count": null,
   "id": "1f47a7a8",
   "metadata": {},
   "outputs": [],
   "source": [
    "chart=alt.Chart(metrics_pt).mark_line(point={\n",
    "      \"filled\": False,\n",
    "      \"fill\": \"white\"\n",
    "    }).encode(\n",
    "    x=alt.X('Fold', title=None),\n",
    "    y=alt.Y('mean(Train-time):Q', scale=alt.Scale(domain=[0,10]), title=\"Train time (minutes)\"),\n",
    "    color=alt.Color('Model', scale=alt.Scale(scheme='tableau20'))\n",
    "   \n",
    ").configure_axis(\n",
    "    grid=False,\n",
    "    labelFontSize=12,\n",
    "    titleFontSize=12\n",
    ").configure_view(\n",
    "    strokeOpacity=0\n",
    ").properties(width=150,\n",
    "                height=180\n",
    ")\n",
    "chart.save(f'{figure_path}/PT_train_speed_folds_speed.pdf', ppi=480)\n",
    "chart"
   ]
  },
  {
   "cell_type": "markdown",
   "id": "0c2abb70",
   "metadata": {},
   "source": [
    "## Training time vs inference"
   ]
  },
  {
   "cell_type": "code",
   "execution_count": null,
   "id": "5c7efe3f",
   "metadata": {},
   "outputs": [],
   "source": [
    "\n",
    "chart = alt.Chart(metrics_uk).mark_point(size=60).encode(\n",
    "    y = alt.Y('mean(nrmse)', scale=alt.Scale(domain=[0.01, 0.3]), title='NMRSE'),\n",
    "    x = alt.X('mean(Test-time)',scale=alt.Scale(domain=[0, 0.8]), axis=alt.Axis( title='Inference time \\n (minutes)')),\n",
    "    color=alt.Color('Model', scale=alt.Scale(scheme='tableau20')),\n",
    "    shape=alt.Shape('Model')\n",
    "    \n",
    ").configure_axis(\n",
    "    grid=False,\n",
    "    labelFontSize=12,\n",
    "    titleFontSize=12\n",
    ").configure_view(\n",
    "    strokeOpacity=0\n",
    ").properties(width=180,\n",
    "                height=200\n",
    ")\n",
    "chart.save(f'{figure_path}/UK_test_speed_nrmse.pdf', ppi=480)\n",
    "chart"
   ]
  },
  {
   "cell_type": "code",
   "execution_count": null,
   "id": "d948a767",
   "metadata": {},
   "outputs": [],
   "source": [
    "chart = alt.Chart(metrics_pt).mark_point(size=60).encode(\n",
    "    y = alt.Y('mean(nrmse)', scale=alt.Scale(domain=[0.0, 0.2]), title='NRMSE'),\n",
    "    x = alt.X('mean(Test-time)',scale=alt.Scale(domain=[0.0, 0.8]), axis=alt.Axis( title='Inference time \\n (minutes)')),\n",
    "    color=alt.Color('Model', scale=alt.Scale(scheme='tableau20')),\n",
    "    shape=alt.Shape('Model')\n",
    "    \n",
    ").configure_axis(\n",
    "    grid=False,\n",
    "    labelFontSize=12,\n",
    "    titleFontSize=12\n",
    ").configure_view(\n",
    "    strokeOpacity=0\n",
    ").properties(width=180,\n",
    "                height=200\n",
    ")\n",
    "chart.save(f'{figure_path}/PT_test_speed_mae.pdf', ppi=480)\n",
    "chart"
   ]
  },
  {
   "cell_type": "code",
   "execution_count": null,
   "id": "b6a786f3",
   "metadata": {},
   "outputs": [],
   "source": [
    "chart = alt.Chart(metrics_pt).mark_point(size=60).encode(\n",
    "    y = alt.Y('mean(mae)', scale=alt.Scale(domain=[0.0, 12]), title='MAE'),\n",
    "    x = alt.X('mean(Test-time)',scale=alt.Scale(domain=[0.0, 0.8]), axis=alt.Axis( title='Inference time \\n (minutes)')),\n",
    "    color=alt.Color('Model', scale=alt.Scale(scheme='tableau20')),\n",
    "    shape=alt.Shape('Model')\n",
    "    \n",
    ").configure_axis(\n",
    "    grid=False,\n",
    "    labelFontSize=12,\n",
    "    titleFontSize=12\n",
    ").configure_view(\n",
    "    strokeOpacity=0\n",
    ").properties(width=180,\n",
    "                height=200\n",
    ")\n",
    "chart.save(f'{figure_path}/PT_test_speed_nrmse.pdf', ppi=480)\n",
    "chart"
   ]
  },
  {
   "cell_type": "code",
   "execution_count": null,
   "id": "2672d437",
   "metadata": {},
   "outputs": [],
   "source": [
    "chart = alt.Chart(metrics_uk).mark_point(size=60).encode(\n",
    "    y = alt.Y('median(mae)', scale=alt.Scale(domain=[0.0, 2]), title='MAE'),\n",
    "    x = alt.X('median(Test-time)',scale=alt.Scale(domain=[0.01, 0.8]), axis=alt.Axis( title='Inference time \\n (minutes)')),\n",
    "    color=alt.Color('Model', scale=alt.Scale(scheme='tableau20')),\n",
    "    shape=alt.Shape('Model')\n",
    "    \n",
    ").configure_axis(\n",
    "    grid=False,\n",
    "    labelFontSize=12,\n",
    "    titleFontSize=12\n",
    ").configure_view(\n",
    "    strokeOpacity=0\n",
    ").properties(width=180,\n",
    "                height=200\n",
    ")\n",
    "chart.save(f'{figure_path}/UK_test_speed_mae.pdf', ppi=480)\n",
    "chart"
   ]
  },
  {
   "cell_type": "code",
   "execution_count": null,
   "id": "f5c483d7",
   "metadata": {},
   "outputs": [],
   "source": [
    "def print_results(pd_metrics):\n",
    "     print(f\"{pd_metrics['nrmse'].mean():.{2}f} $\\pm$ {pd_metrics['nrmse'].std():.{2}f} & \\\n",
    "            {pd_metrics['mae'].mean():.{2}f} $\\pm$ {pd_metrics['mae'].std():.{2}f} & \\\n",
    "            {pd_metrics['nbias'].mean():.{2}f} $\\pm$ {pd_metrics['nbias'].std():.{2}f}  \\\\\")\n",
    "def formart_results(metrics_pt):\n",
    "    \n",
    "    for model_name in metrics_pt.sort_values('mae').Model.unique():\n",
    "        pd_metrics=metrics_pt[metrics_pt.Model.isin([model_name])]\n",
    "        print(model_name)\n",
    "        print_results(pd_metrics)"
   ]
  },
  {
   "cell_type": "code",
   "execution_count": null,
   "id": "6403b96e",
   "metadata": {},
   "outputs": [],
   "source": [
    "formart_results(metrics_uk)"
   ]
  },
  {
   "cell_type": "code",
   "execution_count": null,
   "id": "50613000",
   "metadata": {},
   "outputs": [],
   "source": [
    "az.style.use([\"science\",  \"arviz-doc\", 'tableau-colorblind10'])"
   ]
  },
  {
   "cell_type": "code",
   "execution_count": null,
   "id": "78b644cf",
   "metadata": {},
   "outputs": [],
   "source": [
    "fig=sns.catplot(data=metrics_uk, \n",
    "                x='Model', \n",
    "                y='nrmse', \n",
    "                #hue='Season', \n",
    "                order=['MLPF', 'NBEATS', 'PatchTST', 'TimesNet', 'FEDformer', 'NHiTS', 'LSTM', 'CAT', 'RF','L-REG', 'MSTL',  'S-Naive'],\n",
    "                sharex=False, margin_titles=True,\n",
    "                height=2.8, aspect=1.25, legend=False,\n",
    "                estimator='mean', errorbar=('ci', 95),\n",
    "                color='C2',\n",
    "                #palette={\"Summer\": \"C2\", \"Spring\": \"C1\", \"Autumn\": \"C3\", \"Winter\": \"C0\"},\n",
    "                 kind='box',showfliers=False, linecolor='k')\n",
    "fig.set_axis_labels('', 'NRMSE', fontsize=10)\n",
    "fig.figure.tight_layout() \n",
    "fig.set(ylim=(0, 0.5))\n",
    "plt.xticks(rotation=90);\n",
    "fig.savefig(f'{figure_path}/UK_bencmark_nrmse.pdf', dpi=480)"
   ]
  },
  {
   "cell_type": "code",
   "execution_count": null,
   "id": "7f172b26",
   "metadata": {},
   "outputs": [],
   "source": [
    "fig=sns.catplot(data=metrics_uk, \n",
    "                x='Model', \n",
    "                y='mae', \n",
    "                #hue='Season', \n",
    "                order=['MLPF', 'NBEATS', 'PatchTST', 'TimesNet', 'FEDformer', 'NHiTS', 'LSTM', 'CAT', 'RF','L-REG', 'MSTL',  'S-Naive'],\n",
    "                sharex=False, margin_titles=True,\n",
    "                height=2.8, aspect=1.25, legend=False,\n",
    "                estimator='mean', errorbar=('ci', 95),\n",
    "                color='C2',\n",
    "                #palette={\"Summer\": \"C2\", \"Spring\": \"C1\", \"Autumn\": \"C3\", \"Winter\": \"C0\"},\n",
    "                 kind='box',showfliers=False, linecolor='k')\n",
    "fig.set_axis_labels('', 'MAE(MW)', fontsize=10)\n",
    "fig.figure.tight_layout() \n",
    "fig.set(ylim=(0, 2))\n",
    "plt.xticks(rotation=90);\n",
    "fig.savefig(f'{figure_path}/UK_bencmark_MAE.pdf', dpi=480)"
   ]
  },
  {
   "cell_type": "code",
   "execution_count": null,
   "id": "0f649a3d",
   "metadata": {},
   "outputs": [],
   "source": [
    "fig=sns.catplot(data=metrics_pt, \n",
    "                x='Model', \n",
    "                y='nrmse', \n",
    "                #hue='Season', \n",
    "                order=['MLPF', 'NBEATS',  'TimesNet', 'FEDformer', 'NHiTS', 'CAT', 'RF', 'LSTM','PatchTST','L-REG', 'MSTL',  'S-Naive'],\n",
    "                sharex=False, margin_titles=True,\n",
    "                height=2.8, aspect=1.25, legend=False,\n",
    "                estimator='mean', errorbar=('ci', 95),\n",
    "                color='C2',\n",
    "                #palette={\"Summer\": \"C2\", \"Spring\": \"C1\", \"Autumn\": \"C3\", \"Winter\": \"C0\"},\n",
    "                 kind='box',showfliers=False, linecolor='k')\n",
    "fig.set_axis_labels('', 'NRMSE', fontsize=10)\n",
    "fig.figure.tight_layout() \n",
    "fig.set(ylim=(0, 0.2))\n",
    "plt.xticks(rotation=90);\n",
    "fig.savefig(f'{figure_path}/PT_bencmark_nrmse.pdf', dpi=480)"
   ]
  },
  {
   "cell_type": "code",
   "execution_count": null,
   "id": "c1c7b38c",
   "metadata": {},
   "outputs": [],
   "source": [
    "fig=sns.catplot(data=metrics_pt, \n",
    "                x='Model', \n",
    "                y='mae', \n",
    "                #hue='Season', \n",
    "                order=['MLPF', 'NBEATS',  'TimesNet', 'FEDformer', 'NHiTS', 'CAT', 'RF', 'LSTM','PatchTST','L-REG', 'MSTL',  'S-Naive'],\n",
    "                sharex=False, margin_titles=True,\n",
    "                height=2.8, aspect=1.25, legend=False,\n",
    "                estimator='mean', errorbar=('ci', 95),\n",
    "                color='C2',\n",
    "                #palette={\"Summer\": \"C2\", \"Spring\": \"C1\", \"Autumn\": \"C3\", \"Winter\": \"C0\"},\n",
    "                 kind='box',showfliers=False, linecolor='k')\n",
    "fig.set_axis_labels('', 'MAE (kW)', fontsize=10)\n",
    "fig.figure.tight_layout() \n",
    "fig.set(ylim=(0, 10))\n",
    "plt.xticks(rotation=90);\n",
    "fig.savefig(f'{figure_path}/PT_bencmark_mae.pdf', dpi=480)"
   ]
  },
  {
   "cell_type": "code",
   "execution_count": null,
   "id": "a1b2fdad",
   "metadata": {},
   "outputs": [],
   "source": [
    "#res=metrics.groupby(['Dataset','Model'])['nrmse', 'mae',  'nbias'].median().round(3)\n",
    "res=metrics_uk.groupby(['Dataset','Model'])[['nrmse', 'mae',  'nbias']].median().sort_values('nrmse').round(2)\n",
    "table = res.to_latex(index=True, formatters={\"name\": str.upper},\n",
    "                  float_format=\"{:.2f}\".format)\n",
    "# Print the LaTeX table\n",
    "print(table)"
   ]
  },
  {
   "cell_type": "markdown",
   "id": "c0e4617a",
   "metadata": {},
   "source": [
    "#### statistical test"
   ]
  },
  {
   "cell_type": "code",
   "execution_count": null,
   "id": "05247de1",
   "metadata": {},
   "outputs": [],
   "source": [
    "def get_net_load(data):\n",
    "    net_load=data.true.iloc[:, 0]\n",
    "    data=data[models]\n",
    "    data=data.rename(columns={'SeasonalNaive':'S-NAIVE',  'LREGRESS':'L-REG', 'CATBOOST':'CAT',  'MLPForecast':'MLPF'})\n",
    "    data['NetLoad']=net_load.values\n",
    "    # Transforming indices to datetime format\n",
    "    data.index = data_pt.Date.iloc[:, 0]\n",
    "    data.head()\n",
    "    real_netload = data.loc[:, ['NetLoad']]\n",
    "    del data['NetLoad']\n",
    "    return data, real_netload"
   ]
  },
  {
   "cell_type": "code",
   "execution_count": null,
   "id": "405f20c5",
   "metadata": {},
   "outputs": [],
   "source": [
    "pt_data, pt_netload=get_net_load(data_pt)"
   ]
  },
  {
   "cell_type": "code",
   "execution_count": null,
   "id": "f3f84865",
   "metadata": {},
   "outputs": [],
   "source": [
    "fig, ax = plt.subplots(1,1, figsize=(3.5,3))\n",
    "p_value=run_statistical_test(ax, pt_netload, pt_data, norm=1, test='DM', sample_per_period=48)\n",
    "#ax.set_title('')\n",
    "fig.savefig(f'{figure_path}/PT_DM_test_model.pdf', dpi=480)"
   ]
  },
  {
   "cell_type": "code",
   "execution_count": null,
   "id": "e035d0ad",
   "metadata": {},
   "outputs": [],
   "source": [
    "uk_data, uk_netload=get_net_load(data_uk)\n",
    "fig, ax = plt.subplots(1,1, figsize=(3.5,3))\n",
    "p_value=run_statistical_test(ax, uk_netload, uk_data, norm=1, test='DM', sample_per_period=48)\n",
    "#ax.set_title('')\n",
    "fig.savefig(f'{figure_path}/UK_DM_test_model.pdf', dpi=480)"
   ]
  },
  {
   "cell_type": "markdown",
   "id": "21bdb68e",
   "metadata": {},
   "source": [
    "## Error analysis"
   ]
  },
  {
   "cell_type": "code",
   "execution_count": null,
   "id": "534ce02d",
   "metadata": {},
   "outputs": [],
   "source": [
    "from palettable.cmocean.diverging import Curl_20\n",
    "from utils.data_processing import add_time_features\n",
    "def prepareheatmap_df(data, hemisphere = 'Northern'):\n",
    "    data = add_time_features(data, hemisphere)\n",
    "    data['date']=data.index.date\n",
    "    data[\"Time\"] = data.index.time\n",
    "    return data\n",
    "\n",
    "def create_heatmap(ax, df, value, index='Time', column='date', cmap=Curl_20.get_mpl_colormap(), label='Net-Load (kW)', vmin=5, vmax=-5):\n",
    "    data_df = df.copy()\n",
    "    get_first = lambda x: x.iloc[0]\n",
    "    # Pivot dates and times to create a two dimensional representation\n",
    "    hm = data_df.pivot_table(index=index, columns=column, values=value, aggfunc=np.mean, dropna=True)\n",
    "    sns.heatmap(hm, ax=ax, cbar_kws={'label': label}, cmap=cmap, vmin=vmin, vmax=vmax)\n",
    "    return hm\n",
    "\n",
    "def create_nbias(predictions, ground_truth):\n",
    "    num =  predictions.values - ground_truth.values \n",
    "    denom = ground_truth.values + predictions.values\n",
    "    nbias = pd.DataFrame(np.divide(num, denom))\n",
    "    nbias.index=predictions.index\n",
    "    nbias.index.name='timestamp'\n",
    "    nbias.columns=predictions.columns\n",
    "    return nbias\n",
    "\n",
    "def create_res(predictions, ground_truth):\n",
    "    \n",
    "    \n",
    "    res = pd.DataFrame(ground_truth.values - predictions.values)\n",
    "    res.index=predictions.index\n",
    "    res.index.name='timestamp'\n",
    "    res.columns=predictions.columns\n",
    "    return res\n",
    "\n",
    "def plot_distribution(ax, df, index_col='HOUR', val_col='WindSpeed', hue_col=None):\n",
    "    spivot = pd.pivot_table(df, index=index_col, values=val_col, columns=hue_col,  aggfunc=np.mean)\n",
    "    sdv = pd.pivot_table(df, index=index_col, values=val_col, columns=hue_col, aggfunc=np.std)\n",
    "    spivot.plot(ax=ax)\n",
    "    ax.fill_between(np.arange(24), (spivot.min(1)-sdv.min(1)), \n",
    "                        (spivot.max(1)+sdv.max(1)),  color=\"lightsteelblue\", alpha=0.5)\n",
    "    return ax\n"
   ]
  },
  {
   "cell_type": "code",
   "execution_count": null,
   "id": "a7bcebc0",
   "metadata": {},
   "outputs": [],
   "source": [
    "res_pt=create_res(pt_data.copy(),pt_netload.copy())\n",
    "res_pt = prepareheatmap_df(res_pt)\n",
    "#res_uk.head()"
   ]
  },
  {
   "cell_type": "code",
   "execution_count": null,
   "id": "19fb1bf2",
   "metadata": {},
   "outputs": [],
   "source": [
    "az.style.use([\"science\",  \"arviz-white\", 'tableau-colorblind10'])\n",
    "for model in ['MLPF', 'NBEATS',  'TimesNet']:\n",
    "    fig, ax = plt.subplots(1, 1, figsize=(12, 3.0))\n",
    "    hm=create_heatmap(ax, res_pt, value=model, index='Time', column='date', label=f'RES-{model}')\n",
    "    fig.savefig(f'{figure_path}/PT_error_analysis_{model}.pdf', dpi=480)"
   ]
  },
  {
   "cell_type": "code",
   "execution_count": null,
   "id": "077b528c",
   "metadata": {},
   "outputs": [],
   "source": [
    "met_pt = prepareheatmap_df(metrics_pt)"
   ]
  },
  {
   "cell_type": "code",
   "execution_count": null,
   "id": "b874207c",
   "metadata": {},
   "outputs": [],
   "source": [
    "for model in ['MLPF', 'NBEATS',  'TimesNet']:\n",
    "    fig, ax = plt.subplots(1, 1, figsize=(9, 2.0))\n",
    "    \n",
    "    hm=create_heatmap(ax, met_pt[met_pt.Model==model]['2021'], value='res', index='day', column='week', label=f'NRMSE-{model}', vmax=10, vmin=-10)\n",
    "    fig.savefig(f'{figure_path}/PT_error_analysis_days_{model}.pdf', dpi=480)"
   ]
  },
  {
   "cell_type": "code",
   "execution_count": null,
   "id": "375736b9",
   "metadata": {},
   "outputs": [],
   "source": [
    "cats = [ 'Monday', 'Tuesday', 'Wednesday', 'Thursday', 'Friday', 'Saturday', 'Sunday']\n",
    "from pandas.api.types import CategoricalDtype\n",
    "cat_type = CategoricalDtype(categories=cats, ordered=True)\n",
    "\n",
    "hm.index = hm.index.astype(cat_type)\n",
    "hm.index"
   ]
  },
  {
   "cell_type": "markdown",
   "id": "dbb9b72c",
   "metadata": {},
   "source": [
    "## Short long term trade-off"
   ]
  },
  {
   "cell_type": "code",
   "execution_count": null,
   "id": "b618af16",
   "metadata": {},
   "outputs": [],
   "source": [
    "from IPython.display import clear_output\n",
    "import matplotlib.dates as mdates\n",
    "\n",
    "experiment_type='short-long'\n",
    "window_type='expanding'\n",
    "exp_name='PT-Benchmark' \n",
    "dataset='pt_dataset'\n",
    "encoder_type='MLPForecast'#'NHiTS',  'PatchTST', 'TimesNet'\n",
    "short_long_metrics=[]\n",
    "short_long_all_data={}\n",
    "for horizon in [2, 12, 24, 48, 96, 192, 336]:\n",
    "    data_per_window=[]\n",
    "    for window_size in [48, 96, 144, 192, 336, 384]:#432\n",
    "        file_name=f'{exp_name}_{dataset}_{experiment_type}_{window_size}_{horizon}_{window_type}'\n",
    "        all_metrics=[]\n",
    "    \n",
    "        \n",
    "        metrics_per_model=[]\n",
    "        residual_per_model=[]\n",
    "        data_per_model=[]\n",
    "        print(window_size)\n",
    "        print('')\n",
    "        for cross in tqdm(range(1, 11)):\n",
    "            result_path=f'../results/{file_name}/{encoder_type}/{cross}_cross_validation_processed_results.npy'\n",
    "            results=np.load(result_path, allow_pickle=True).item()\n",
    "            time_stamp=results['index']\n",
    "            true=results['true']\n",
    "            pred=results['pred']\n",
    "            df = pd.DataFrame(time_stamp.flatten()[:len(true.flatten())])\n",
    "            df.columns=['Date']\n",
    "            df[f'{window_size}']=pred.flatten()\n",
    "            df['true']=true.flatten()\n",
    "            data_per_model.append(df)\n",
    "\n",
    "            metrics=results['NetLoad_metrics']\n",
    "            index=df.Date.dt.round(\"D\").unique()\n",
    "\n",
    "\n",
    "            metrics['Fold']=cross\n",
    "            metrics['Model']=encoder_type\n",
    "            #metrics['Train-time']=results['train-time'] if 'train-time' in results.keys() else results['train_time']\n",
    "            metrics['Test-time']=results['test-time'] if 'test-time' in results.keys() else results['test_time']\n",
    "            metrics=metrics.set_index('timestamp')\n",
    "            metrics=add_time_features(metrics, hemisphere = 'Northern')\n",
    "            metrics=metrics.replace('CATBOOST', 'CAT').replace('AutoARIMA', 'ARIMA').replace('LREGRESS', 'L-REG').replace('SeasonalNaive', 'S-Naive').replace('MLPForecast', 'MLPF')\n",
    "            metrics_per_model.append(metrics)\n",
    "            \n",
    "        if window_size>=horizon:\n",
    "            if horizon<48:\n",
    "                fig, ax = plt.subplots(1,1, figsize=(3.8,2))\n",
    "                hfmt = mdates.DateFormatter(' %H')\n",
    "                ax.set_xlabel('Time ( Hour)')\n",
    "                \n",
    "            elif horizon==48:\n",
    "                fig, ax = plt.subplots(1,1, figsize=(4,2))\n",
    "                hfmt = mdates.DateFormatter('%H')\n",
    "                ax.set_xlabel('Time ( Hour)')\n",
    "\n",
    "            elif horizon>48 and horizon <=96:\n",
    "                fig, ax = plt.subplots(1,1, figsize=(6,2))\n",
    "                hfmt = mdates.DateFormatter('%d %H')\n",
    "                ax.set_xlabel('Time (Date Hour)')\n",
    "\n",
    "            elif horizon>96:\n",
    "                fig, ax = plt.subplots(1,1, figsize=(9,2))\n",
    "                hfmt = mdates.DateFormatter('%d %H')\n",
    "                ax.set_xlabel('Time (Date Hour)')\n",
    "            \n",
    "            good=results['NetLoad_good']\n",
    "            ax.plot(results['index'][good], results['true'][good][:, 0].flatten(),  \".\", mec=\"#ff7f0e\", mfc=\"None\", label='True')\n",
    "            ax.plot(results['index'][good], results['pred'][good][:, 0].flatten(),  color=\"#1f77b4\", label=\"Pred\")\n",
    "            ax.legend()\n",
    "            ax.set_yticklabels(np.arange(0, 100, 20))\n",
    "            ax.set_ylim(0, 80)\n",
    "            ax.set_ylabel('Power (kW)')\n",
    "            \n",
    "            ax.xaxis.set_major_formatter(hfmt)\n",
    "            fig.savefig(f'{figure_path}/context_{window_size}_horizon_{horizon}_short_long.pdf', dpi=480)\n",
    "            plt.close()\n",
    "        \n",
    "            \n",
    "        metrics_per_model=pd.concat(metrics_per_model)\n",
    "        all_metrics.append(metrics_per_model)\n",
    "        data_per_model=pd.concat(data_per_model)\n",
    "        data_per_window.append(data_per_model)\n",
    "        metrics=pd.concat(all_metrics)\n",
    "        metrics['Context']=window_size\n",
    "        metrics['Horizon']=horizon\n",
    "        \n",
    "\n",
    "        if dataset==\"UK\":\n",
    "            metrics['Dataset']='SPS-UK'\n",
    "        else:\n",
    "            metrics['Dataset']='MLVS-PT'\n",
    "        \n",
    "    \n",
    "        del all_metrics\n",
    "        del df \n",
    "        #del results\n",
    "        del pred\n",
    "        del true\n",
    "        del data_per_model\n",
    "        \n",
    "        short_long_metrics.append(metrics)\n",
    "        clear_output()\n",
    "    short_long_all_data[horizon]=pd.concat(data_per_window)\n",
    "short_long_metrics = pd.concat(short_long_metrics)"
   ]
  },
  {
   "cell_type": "code",
   "execution_count": null,
   "id": "400adbc0",
   "metadata": {},
   "outputs": [],
   "source": [
    "res=short_long_metrics.groupby(['Context','Horizon'])[['nrmse', 'mae',  'nbias']].mean().round(2)\n",
    "table = res.to_latex(index=True, formatters={\"name\": str.upper},\n",
    "                  float_format=\"{:.2f}\".format)\n",
    "# Print the LaTeX table\n",
    "print(table)"
   ]
  },
  {
   "cell_type": "code",
   "execution_count": null,
   "id": "b98a2b18",
   "metadata": {},
   "outputs": [],
   "source": [
    "res=short_long_metrics.groupby(['Model',    'Horizon'])[['nrmse', 'mae', 'nbias']].mean().round(2)\n",
    "res"
   ]
  },
  {
   "cell_type": "code",
   "execution_count": null,
   "id": "4c5c38e7",
   "metadata": {},
   "outputs": [],
   "source": [
    "def altair_plot(data, metric='mae', column='Context', dataset='PT',  across='Horizon', domain=[2., 6]):\n",
    "    #data=data[data['Emb-Type']=='None']\n",
    "    #data=data.replace('addition-comb', 'ADD').replace('attn-comb', 'ATTN').replace('weighted-comb', 'WTA')\n",
    "    line = alt.Chart(data).mark_line(point={\n",
    "      \"filled\": False,\n",
    "      \"fill\": \"white\"\n",
    "    }).encode(\n",
    "    y = alt.Y(f'mean({metric})', scale=alt.Scale(domain=domain), title=metric.upper()),\n",
    "    x = alt.X(f'{column}:N', axis=alt.Axis( title=column.upper())),\n",
    "    color=alt.Color('Season', scale=alt.Scale(scheme='tableau10')),\n",
    "    column=alt.Column(f'{across}:N', title=across.upper()),\n",
    "    \n",
    "    ).configure_axis(\n",
    "    grid=False,\n",
    "    labelFontSize=12,\n",
    "    titleFontSize=12\n",
    "        ).configure_view(\n",
    "            strokeOpacity=0\n",
    "        ).properties(width=120,\n",
    "                        height=150\n",
    "        )\n",
    "    line.save(f'{figure_path}/{dataset}_{column}_{metric}.pdf', ppi=480)\n",
    "    return line"
   ]
  },
  {
   "cell_type": "code",
   "execution_count": null,
   "id": "55f31ca4",
   "metadata": {},
   "outputs": [],
   "source": [
    "def altair_plot_overall(data, metric='mae', column='Context', dataset='PT',  across='Horizon', domain=[2., 6]):\n",
    "    #data=data[data['Emb-Type']=='None']\n",
    "    #data=data.replace('addition-comb', 'ADD').replace('attn-comb', 'ATTN').replace('weighted-comb', 'WTA')\n",
    "    line = alt.Chart(data).mark_line(point={\n",
    "      \"filled\": False,\n",
    "      \"fill\": \"white\"\n",
    "    }).encode(\n",
    "    y = alt.Y(f'mean({metric})', scale=alt.Scale(domain=domain), title=metric.upper()),\n",
    "    x = alt.X(f'{column}:N', axis=alt.Axis( title=column.upper())),\n",
    "    color=alt.Color(f'{across}:N', scale=alt.Scale(scheme='tableau10'), title=across.upper()),\n",
    "    \n",
    "    \n",
    "    ).configure_axis(\n",
    "    grid=False,\n",
    "    labelFontSize=12,\n",
    "    titleFontSize=12\n",
    "        ).configure_view(\n",
    "            strokeOpacity=0\n",
    "        ).properties(width=120,\n",
    "                        height=150\n",
    "        )\n",
    "    line.save(f'{figure_path}/{dataset}_{column}_{metric}_overal.pdf', ppi=480)\n",
    "    return line\n",
    "\n"
   ]
  },
  {
   "cell_type": "code",
   "execution_count": null,
   "id": "3dacb006",
   "metadata": {},
   "outputs": [],
   "source": [
    "line=altair_plot_overall(short_long_metrics, domain=[2., 5])\n",
    "line"
   ]
  },
  {
   "cell_type": "code",
   "execution_count": null,
   "id": "0f8e864a",
   "metadata": {},
   "outputs": [],
   "source": [
    "line=altair_plot(short_long_metrics, domain=[0., 6])\n",
    "line"
   ]
  },
  {
   "cell_type": "code",
   "execution_count": null,
   "id": "67d15c54",
   "metadata": {},
   "outputs": [],
   "source": [
    "line=altair_plot(short_long_metrics, across='Context', column='Horizon', domain=[0., 8])\n",
    "line"
   ]
  },
  {
   "cell_type": "code",
   "execution_count": null,
   "id": "24f867a7",
   "metadata": {},
   "outputs": [],
   "source": [
    "line=altair_plot_overall(short_long_metrics, across='Context', column='Horizon', domain=[2., 5])\n",
    "line"
   ]
  },
  {
   "cell_type": "code",
   "execution_count": null,
   "id": "8fc9f4d4",
   "metadata": {},
   "outputs": [],
   "source": [
    "line=altair_plot(short_long_metrics, metric='nrmse', domain=[0.02, 0.1])\n",
    "line"
   ]
  },
  {
   "cell_type": "code",
   "execution_count": null,
   "id": "08bd4b72",
   "metadata": {},
   "outputs": [],
   "source": [
    "line=altair_plot_overall(short_long_metrics, metric='nrmse', domain=[0.02, 0.1])\n",
    "line"
   ]
  },
  {
   "cell_type": "code",
   "execution_count": null,
   "id": "47e2823e",
   "metadata": {},
   "outputs": [],
   "source": [
    "line=altair_plot(short_long_metrics,  metric='nrmse', domain=[0.02, 0.1], across='Context', column='Horizon')\n",
    "line"
   ]
  },
  {
   "cell_type": "code",
   "execution_count": null,
   "id": "ba14921d",
   "metadata": {},
   "outputs": [],
   "source": [
    "line=altair_plot_overall(short_long_metrics,  metric='nrmse', domain=[0.02, 0.1], across='Context', column='Horizon')\n",
    "line"
   ]
  },
  {
   "cell_type": "code",
   "execution_count": null,
   "id": "19e194a8",
   "metadata": {},
   "outputs": [],
   "source": [
    "line=altair_plot(short_long_metrics,  metric='nbias', domain=[-5, 15], across='Context', column='Horizon')\n",
    "line"
   ]
  },
  {
   "cell_type": "code",
   "execution_count": null,
   "id": "0f85553d",
   "metadata": {},
   "outputs": [],
   "source": [
    "line=altair_plot_overall(short_long_metrics,  metric='nbias', domain=[-5, 15], across='Context', column='Horizon')\n",
    "line"
   ]
  },
  {
   "cell_type": "code",
   "execution_count": null,
   "id": "fbe7fcd8",
   "metadata": {},
   "outputs": [],
   "source": [
    "line=altair_plot(short_long_metrics,  metric='nbias', domain=[-5, 15], column='Context', across='Horizon')\n",
    "line"
   ]
  },
  {
   "cell_type": "code",
   "execution_count": null,
   "id": "345a80e1",
   "metadata": {},
   "outputs": [],
   "source": [
    "line=altair_plot_overall(short_long_metrics,  metric='nbias', domain=[-5, 15], column='Context', across='Horizon')\n",
    "line"
   ]
  },
  {
   "cell_type": "markdown",
   "id": "aa25da87",
   "metadata": {},
   "source": [
    "### Statitsical test"
   ]
  },
  {
   "cell_type": "code",
   "execution_count": null,
   "id": "ab57ca63",
   "metadata": {},
   "outputs": [],
   "source": [
    "short_long_all_data[48]"
   ]
  },
  {
   "cell_type": "code",
   "execution_count": null,
   "id": "7d6ed9d4",
   "metadata": {},
   "outputs": [],
   "source": [
    "\n",
    "ax, lines, label=plot_prediction_with_upper_lower(ax,results['true'][good][:, 0].flatten(),\n",
    "                                     results['pred'][good][:, 0].flatten(),\n",
    "                                    None,\n",
    "                                    None)"
   ]
  }
 ],
 "metadata": {
  "kernelspec": {
   "display_name": "Python 3 (ipykernel)",
   "language": "python",
   "name": "python3"
  },
  "language_info": {
   "codemirror_mode": {
    "name": "ipython",
    "version": 3
   },
   "file_extension": ".py",
   "mimetype": "text/x-python",
   "name": "python",
   "nbconvert_exporter": "python",
   "pygments_lexer": "ipython3",
   "version": "3.9.18"
  },
  "varInspector": {
   "cols": {
    "lenName": 16,
    "lenType": 16,
    "lenVar": 40
   },
   "kernels_config": {
    "python": {
     "delete_cmd_postfix": "",
     "delete_cmd_prefix": "del ",
     "library": "var_list.py",
     "varRefreshCmd": "print(var_dic_list())"
    },
    "r": {
     "delete_cmd_postfix": ") ",
     "delete_cmd_prefix": "rm(",
     "library": "var_list.r",
     "varRefreshCmd": "cat(var_dic_list()) "
    }
   },
   "types_to_exclude": [
    "module",
    "function",
    "builtin_function_or_method",
    "instance",
    "_Feature"
   ],
   "window_display": false
  }
 },
 "nbformat": 4,
 "nbformat_minor": 5
}
